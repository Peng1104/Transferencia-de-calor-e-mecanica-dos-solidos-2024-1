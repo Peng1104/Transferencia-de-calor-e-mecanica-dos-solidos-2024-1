{
 "cells": [
  {
   "cell_type": "markdown",
   "metadata": {},
   "source": [
    "$$q(t) = q_{max} \\sin(\\frac {2\\pi t} T) + q_{base^´}$$"
   ]
  },
  {
   "cell_type": "code",
   "execution_count": 1,
   "metadata": {},
   "outputs": [],
   "source": [
    "import numpy as np\n",
    "\n",
    "def solve_equation(q_max, T, q_base, t):\n",
    "    return q_max * np.sin((2 * np.pi * t) / T) + q_base\n",
    "\n"
   ]
  },
  {
   "cell_type": "markdown",
   "metadata": {},
   "source": [
    "b) Atravez do método de Simpson:"
   ]
  },
  {
   "cell_type": "markdown",
   "metadata": {},
   "source": [
    "$$ \\int \\limits_{a}^{b} f(x) dx \\approx \\frac h 3 [f(x_0) + 2 \\sum \\limits_{j=1}^{\\frac n 2 - 1} f(x_{2j}) + 4 \\sum \\limits_{j=1}^{\\frac n 2} f(x_{2j-1}) + f(x_n)]$$"
   ]
  },
  {
   "cell_type": "code",
   "execution_count": null,
   "metadata": {},
   "outputs": [],
   "source": [
    "from collections.abc import Callable\n",
    "\n",
    "# a = inicio\n",
    "# b = fim\n",
    "# n = número de intervalos\n",
    "\n",
    "def simpson(inicio : float, fim : float, numero_de_intervalos : int, fucao : Callable[[float], float]) -> float:\n",
    "    # h = (b - a) / n\n",
    "    h = (fim - inicio) / numero_de_intervalos\n",
    "    \n",
    "    # [f(x0) + f(xn)]\n",
    "    resultado = fucao(inicio) + fucao(fim)\n",
    "\n",
    "    # Calculando as somas de f(x2j) e f(x2j-1)\n",
    "    for j in range(1, numero_de_intervalos):\n",
    "        # k = x2j -> x = inicio e h*j distancia do inicio\n",
    "        k = inicio + h * j\n",
    "        \n",
    "        if j % 2 == 0:\n",
    "            resultado += 2 * fucao(k) # 2 * somatorio de f(x2j)\n",
    "        else:\n",
    "            resultado += 4 * fucao(k) # 4 * somatorio de f(x2j-1)\n",
    "    \n",
    "    # h / 3 * [f(x0) +f (xn) + 4 * somatorio de f(x2j-1) + 2 * somatorio de f(x2j)]\n",
    "    return resultado * (h / 3)"
   ]
  }
 ],
 "metadata": {
  "kernelspec": {
   "display_name": "Python 3",
   "language": "python",
   "name": "python3"
  },
  "language_info": {
   "codemirror_mode": {
    "name": "ipython",
    "version": 3
   },
   "file_extension": ".py",
   "mimetype": "text/x-python",
   "name": "python",
   "nbconvert_exporter": "python",
   "pygments_lexer": "ipython3",
   "version": "3.11.0rc1"
  }
 },
 "nbformat": 4,
 "nbformat_minor": 2
}
