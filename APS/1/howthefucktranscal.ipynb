{
 "cells": [
  {
   "cell_type": "code",
   "execution_count": 1,
   "metadata": {},
   "outputs": [
    {
     "name": "stdout",
     "output_type": "stream",
     "text": [
      "{10: (10526.315790000002, 10526.31579, 1.7280399332821615e-16), 60: (63157.89474, 63157.89474, 0.0), 3600: (3789473.6843999997, 3789473.6843999997, 0.0)}\n"
     ]
    },
    {
     "name": "stderr",
     "output_type": "stream",
     "text": [
      "/tmp/ipykernel_24164/3410038596.py:19: DeprecationWarning: 'scipy.integrate.trapz' is deprecated in favour of 'scipy.integrate.trapezoid' and will be removed in SciPy 1.14.0\n",
      "  integral_trapz = trapz(y, t)\n",
      "/tmp/ipykernel_24164/3410038596.py:20: DeprecationWarning: 'scipy.integrate.simps' is deprecated in favour of 'scipy.integrate.simpson' and will be removed in SciPy 1.14.0\n",
      "  integral_simps = simps(y, t)\n"
     ]
    }
   ],
   "source": [
    "import numpy as np\n",
    "from scipy.integrate import simps, trapz\n",
    "\n",
    "# Constantes dadas\n",
    "q_max = 526.3157895\n",
    "q_base = 1052.631579\n",
    "\n",
    "# Definindo a função de transferência de calor q(t)\n",
    "def q(t, T):\n",
    "    return q_max * np.sin((2 * np.pi * t) / T) + q_base\n",
    "\n",
    "# Calcula a integral utilizando a regra do trapézio e 1/3 de Simpson\n",
    "def calcular_integral(T, n=10):\n",
    "    # Intervalo de tempo de 0 a T\n",
    "    t = np.linspace(0, T, n + 1)\n",
    "    y = q(t, T)\n",
    "    \n",
    "    # Calcula a integral usando a regra do trapézio e Simpson\n",
    "    integral_trapz = trapz(y, t)\n",
    "    integral_simps = simps(y, t)\n",
    "    \n",
    "    # Calcula o erro relativo entre as duas integrais\n",
    "    erro_relativo = np.abs((integral_trapz - integral_simps) / integral_simps)\n",
    "    \n",
    "    return integral_trapz, integral_simps, erro_relativo\n",
    "\n",
    "# Períodos dados\n",
    "periodos = [10, 60, 3600]\n",
    "\n",
    "# Calcular a integral para cada período\n",
    "resultados = {T: calcular_integral(T) for T in periodos}\n",
    "print(resultados)\n"
   ]
  }
 ],
 "metadata": {
  "kernelspec": {
   "display_name": "Python 3",
   "language": "python",
   "name": "python3"
  },
  "language_info": {
   "codemirror_mode": {
    "name": "ipython",
    "version": 3
   },
   "file_extension": ".py",
   "mimetype": "text/x-python",
   "name": "python",
   "nbconvert_exporter": "python",
   "pygments_lexer": "ipython3",
   "version": "3.11.0rc1"
  }
 },
 "nbformat": 4,
 "nbformat_minor": 2
}
