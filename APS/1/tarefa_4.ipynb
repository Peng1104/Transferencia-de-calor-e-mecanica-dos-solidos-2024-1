{
 "cells": [
  {
   "cell_type": "markdown",
   "metadata": {},
   "source": [
    "Considere uma taxa de transferência de calor $q(t)$ que varia ao longo do tempo de acordo com a tabela.\n",
    "\n",
    "| $t_i(s)$ | $q_i(W)$ |\n",
    "|----------|----------|\n",
    "| 0        | 1000     |\n",
    "| 1800     | 1500     |\n",
    "| 3600     | 500      |\n",
    "\n",
    "Dado três pontos que representam essa taxa em tempos distintos, realize uma interpolação quadrática de Lagrange para estimar a função $q(t)$ e, a partir dessa função interpolada, calcular a taxa de transferência de calor para um tempo 𝑡 ."
   ]
  },
  {
   "cell_type": "markdown",
   "metadata": {},
   "source": [
    "Classe para armazenar um par de valores:"
   ]
  },
  {
   "cell_type": "code",
   "execution_count": 1,
   "metadata": {},
   "outputs": [],
   "source": [
    "class DataPair:\n",
    "    def __init__(self, x : float, y : float) -> None:\n",
    "        self.x = x\n",
    "        self.y = y"
   ]
  },
  {
   "cell_type": "markdown",
   "metadata": {},
   "source": [
    "Valores para a tarefa:"
   ]
  },
  {
   "cell_type": "code",
   "execution_count": 2,
   "metadata": {},
   "outputs": [],
   "source": [
    "# Valores da tabela\n",
    "valores = [DataPair(0, 1000), DataPair(1800, 1500), DataPair(3600, 500)]\n",
    "\n",
    "# Valor de t para o grupo 11 retirado da tabela\n",
    "t = 2210.526316"
   ]
  },
  {
   "cell_type": "markdown",
   "metadata": {},
   "source": [
    "Interpolação de Lagrange:\n",
    "\n",
    "$ L(x) = \\sum \\limits_{i=0}^{n} y_i \\cdot \\prod \\limits_{j=0, j \\neq i}^{n} \\frac{x - x_j}{x_i - x_j} $"
   ]
  },
  {
   "cell_type": "code",
   "execution_count": 3,
   "metadata": {},
   "outputs": [],
   "source": [
    "def lagrange(x: float, valores: list[DataPair]) -> float:\n",
    "    '''\n",
    "    Calcula o valor de L(x) usando o método de interpolação de Lagrange\n",
    "\n",
    "    Parâmetros:\n",
    "    ----------\n",
    "    x : O valor de x para o qual queremos calcular L(x)\n",
    "    valores : A lista de pares de valores (x, L(x)) conhecidos\n",
    "\n",
    "    Retorna:\n",
    "    --------\n",
    "    O valor de L(x) calculado pelo método de interpolação de Lagrange\n",
    "    '''\n",
    "\n",
    "    n = len(valores) # Número de pares de valores conhecidos\n",
    "\n",
    "    L_x = 0.0        # Valor de f(x) calculado\n",
    "\n",
    "    # Somatória de i = 0 até n\n",
    "    for i in range(0, n):\n",
    "        somatoria = 0.0\n",
    "\n",
    "        # Somatória de j = 0 até n com j != i\n",
    "        for j in range(0, n):\n",
    "            if j != i:\n",
    "                # (x - x_j) / (x_i - x_j)\n",
    "                somatoria += (x - valores[j].x) / (valores[i].x - valores[j].x)\n",
    "\n",
    "        L_x += valores[i].y * somatoria\n",
    "    \n",
    "    return L_x"
   ]
  },
  {
   "cell_type": "code",
   "execution_count": 4,
   "metadata": {},
   "outputs": [
    {
     "name": "stdout",
     "output_type": "stream",
     "text": [
      "Usando a interpolação quadrática de Lagrange o valor de q(2210.526316) = 3578.947368\n"
     ]
    }
   ],
   "source": [
    "print(f\"Usando a interpolação quadrática de Lagrange o valor de q({t}) = {lagrange(t, valores):.6f}\")"
   ]
  }
 ],
 "metadata": {
  "kernelspec": {
   "display_name": "Python 3",
   "language": "python",
   "name": "python3"
  },
  "language_info": {
   "codemirror_mode": {
    "name": "ipython",
    "version": 3
   },
   "file_extension": ".py",
   "mimetype": "text/x-python",
   "name": "python",
   "nbconvert_exporter": "python",
   "pygments_lexer": "ipython3",
   "version": "3.12.1"
  }
 },
 "nbformat": 4,
 "nbformat_minor": 2
}
