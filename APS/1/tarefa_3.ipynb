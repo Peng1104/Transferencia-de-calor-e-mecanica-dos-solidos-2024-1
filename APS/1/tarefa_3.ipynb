{
 "cells": [
  {
   "cell_type": "markdown",
   "metadata": {},
   "source": [
    "Considerando uma taxa de transferência de calor que varia de forma não-linear com o tempo, representada pela função:\n",
    "$$ q(t) = q_{base} + A \\cdot sin(\\omega_1 \\cdot t + \\phi_1) + B \\cdot t^2 \\cdot e^{-C \\cdot t} $$\n",
    "onde A,B são as amplitudes que modulam os efeitos dos termos senoidal e polinomial, $\\omega_1 = \\frac \\pi {3600}$ é a frequência angular, $ \\phi_1 = \\frac \\pi 6 $\n",
    "é o deslocamento de fase, C é o termo de decaimento, calcule a quantidade total de energia térmica transferida para períodos de 10s, 60s, 3600s. Indique o resultado obtido considerando 10 intervalos de integração. Para cada período, calcule o erro relativo.\\\n",
    "Compare o resultado observado para o erro relativo com os resultados obtidos no exercício 1 e indique se esse comportamento era esperado."
   ]
  },
  {
   "cell_type": "code",
   "execution_count": 1,
   "metadata": {},
   "outputs": [],
   "source": [
    "import numpy as np\n",
    "\n",
    "w_1 = np.pi/3600      # Frequência angular de 1/3600 Hz\n",
    "phi_1 = np.pi/6       # Deslocamento de fase de 30 graus\n",
    "\n",
    "t_inicial = 0         # Tempo inicial\n",
    "t_final_1 = 10        # Período de 10 segundos\n",
    "t_final_2 = 60        # Período de 60 segundos\n",
    "t_final_3 = 3600      # Período de 3600 segundos\n",
    "\n",
    "n = 10                # Número de intervalos de integração\n",
    "\n",
    "# Constantes da tabela para o grupo 11\n",
    "\n",
    "q_base = 1052.631579  # Cota inferior de transferência de calor\n",
    "A = 276.3157895       # Amplitude senoidal\n",
    "B = 176.3157895       # Amplitude polinomial\n",
    "C = 0.000452632       # Termo de decaimento\n",
    "\n",
    "# Função de transferência de calor\n",
    "def q(t : float) -> float:\n",
    "    return q_base + A*np.sin(w_1*t + phi_1) + B*t**2 + np.exp(-C*t)"
   ]
  },
  {
   "cell_type": "markdown",
   "metadata": {},
   "source": [
    "a) Analise analitica:"
   ]
  },
  {
   "cell_type": "code",
   "execution_count": 2,
   "metadata": {},
   "outputs": [
    {
     "name": "stdout",
     "output_type": "stream",
     "text": [
      "Equação analítica da transferência de calor: 176.3157895*t**2 + 276.3157895*sin(0.000872664625997165*t + 0.523598775598299) + 1052.631579 + exp(-0.000452632*t)\n",
      "\n",
      "Integral analítica da equação de transferência de calor: 58.7719298333333*t**3 + 1052.631579*t - 316634.571023505*cos(0.000872664625997165*t + 0.523598775598299) - 2209.30027041835*exp(-0.000452632*t)\n",
      "\n",
      "Transferência de calor para o período de 10 segundos calculada analiticamente via sympy: 70700.2256508388\n",
      "Transferência de calor para o período de 60 segundos calculada analiticamente via sympy: 12766615.4180394\n",
      "Transferência de calor para o período de 3600 segundos calculada analiticamente via sympy: 2742067497981.05\n"
     ]
    }
   ],
   "source": [
    "import sympy as sp\n",
    "\n",
    "t = sp.symbols('t')\n",
    "\n",
    "# Função de transferência de calor analítica\n",
    "q_analitico = q_base + A*sp.sin(w_1*t + phi_1) + B*t**2 + sp.exp(-C*t)\n",
    "\n",
    "# Integral da função de transferência de calor\n",
    "Q = sp.integrate(q_analitico, t)\n",
    "\n",
    "print(f\"Equação analítica da transferência de calor: {q_analitico}\")\n",
    "print(\"\")\n",
    "print(f\"Integral analítica da equação de transferência de calor: {Q}\")\n",
    "print(\"\")\n",
    "\n",
    "# Cálculo da transferência de calor para os três períodos\n",
    "print(f\"Transferência de calor para o período de {t_final_1} segundos calculada analiticamente via sympy: {Q.subs(t, t_final_1) - Q.subs(t, t_inicial)}\")\n",
    "print(f\"Transferência de calor para o período de {t_final_2} segundos calculada analiticamente via sympy: {Q.subs(t, t_final_2) - Q.subs(t, t_inicial)}\")\n",
    "print(f\"Transferência de calor para o período de {t_final_3} segundos calculada analiticamente via sympy: {Q.subs(t, t_final_3) - Q.subs(t, t_inicial)}\")"
   ]
  },
  {
   "cell_type": "markdown",
   "metadata": {},
   "source": [
    "b) Regra do Trapézio:\n",
    "\n",
    "$$\\int \\limits_{a}^{b} f(x) dx \\approx \\sum \\limits_{i=0}^{n - 1} \\frac {f_i + f_{i + 1}} {2} \\Delta x $$"
   ]
  },
  {
   "cell_type": "code",
   "execution_count": 3,
   "metadata": {},
   "outputs": [],
   "source": [
    "from collections.abc import Callable\n",
    "\n",
    "def trapezio(f : Callable[[float], float], a : float, b : float, n : int) -> tuple[float, float]:\n",
    "    \"\"\"\n",
    "    Regra do trapézio para integração numérica\n",
    "\n",
    "    Parametros\n",
    "    ----------\n",
    "    f : Função a ser integrada\n",
    "    a : Limite inferior de integração\n",
    "    b : Limite superior de integração\n",
    "    n : Número de intervalos de integração\n",
    "\n",
    "    Retorna\n",
    "    -------\n",
    "    integral      : Valor da integral numérica\n",
    "    erro_relativo : Valor do erro relativo da integral numérica\n",
    "    \"\"\"\n",
    "    \n",
    "    delta_x = (b - a) / n # Largura de cada intervalo\n",
    "\n",
    "    resultado = 0         # Valor inicial da integral\n",
    "    erro_relativo = 0     # Valor inicial do erro relativo\n",
    "\n",
    "    # Cálculo da somatória dos trapézios\n",
    "    for i in range(0, n):\n",
    "        antigo = resultado\n",
    "        \n",
    "        resultado += (f(i) + f(i+1)) / 2 * delta_x\n",
    "\n",
    "        erro_relativo = abs((resultado - antigo) / resultado)\n",
    "\n",
    "    return resultado, erro_relativo"
   ]
  },
  {
   "cell_type": "code",
   "execution_count": 4,
   "metadata": {},
   "outputs": [
    {
     "name": "stdout",
     "output_type": "stream",
     "text": [
      "Transferência de calor para o período de 10 segundos calculada via regra do trapézio com 10 intervalos: 70994.08521183663\n",
      "Erro relativo para o período de 10 segundos: 0.24157425426143994\n",
      "\n",
      "Transferência de calor para o período de 60 segundos calculada via regra do trapézio com 10 intervalos: 425964.5112710198\n",
      "Erro relativo para o período de 60 segundos: 0.2415742542614399\n",
      "\n",
      "Transferência de calor para o período de 3600 segundos calculada via regra do trapézio com 10 intervalos: 25557870.67626119\n",
      "Erro relativo para o período de 3600 segundos: 0.24157425426144002\n"
     ]
    }
   ],
   "source": [
    "# Cálculo da transferência de calor para os três períodos usando a regra do trapézio\n",
    "\n",
    "Q1_trapezio, erro_relativo_1 = trapezio(q, t_inicial, t_final_1, n)\n",
    "Q2_trapezio, erro_relativo_2 = trapezio(q, t_inicial, t_final_2, n)\n",
    "Q3_trapezio, erro_relativo_3 = trapezio(q, t_inicial, t_final_3, n)\n",
    "\n",
    "\n",
    "print(f\"Transferência de calor para o período de {t_final_1} segundos calculada via regra do trapézio com {n} intervalos: {Q1_trapezio}\")\n",
    "print(f\"Erro relativo para o período de {t_final_1} segundos: {erro_relativo_1}\")\n",
    "print(\"\")\n",
    "print(f\"Transferência de calor para o período de {t_final_2} segundos calculada via regra do trapézio com {n} intervalos: {Q2_trapezio}\")\n",
    "print(f\"Erro relativo para o período de {t_final_2} segundos: {erro_relativo_2}\")\n",
    "print(\"\")\n",
    "print(f\"Transferência de calor para o período de {t_final_3} segundos calculada via regra do trapézio com {n} intervalos: {Q3_trapezio}\")\n",
    "print(f\"Erro relativo para o período de {t_final_3} segundos: {erro_relativo_3}\")"
   ]
  },
  {
   "cell_type": "markdown",
   "metadata": {},
   "source": [
    "c) Regra 1/3 de Simpson:\n",
    "\n",
    "$$ \\int \\limits_{a}^{b} f(x) dx \\approx \\frac h 3 [f(x_0) + 2 \\sum \\limits_{j=1}^{\\frac n 2 - 1} f(x_{2j}) + 4 \\sum \\limits_{j=1}^{\\frac n 2} f(x_{2j-1}) + f(x_n)]$$"
   ]
  },
  {
   "cell_type": "code",
   "execution_count": 5,
   "metadata": {},
   "outputs": [],
   "source": [
    "def simpson(f : Callable[[float], float], a : float, b : float, n : int) -> tuple[float, float]:\n",
    "    \"\"\"\n",
    "    Regra de 1/3 Simpson para integração numérica\n",
    "\n",
    "    Parametros\n",
    "    ----------\n",
    "    f : Função a ser integrada\n",
    "    a : Limite inferior de integração\n",
    "    b : Limite superior de integração\n",
    "    n : Número de intervalos de integração\n",
    "\n",
    "    Retorna\n",
    "    -------\n",
    "    integral : Valor da integral numérica\n",
    "    erro_relativo : Valor do erro relativo da integral numérica\n",
    "    \"\"\"\n",
    "\n",
    "    h = (b - a) / n              # Calculando o valor de h\n",
    "    \n",
    "    integral = f(a) + f(b)       # f(x0) + f(xn)\n",
    "    error_relativo = 0           # Valor inicial do erro relativo\n",
    "\n",
    "    # Calculando as somatorias de f(x2j) e f(x2j-1)\n",
    "    for j in range(1, n):\n",
    "        antigo = integral\n",
    "\n",
    "        x = a + h * j            # Calculando o valor de x para cada intervalo\n",
    "        \n",
    "        if j % 2 == 0:\n",
    "            integral += 2 * f(x) # 2 * somatorio de f(x2j)\n",
    "        else:\n",
    "            integral += 4 * f(x) # 4 * somatorio de f(x2j-1)\n",
    "        \n",
    "        error_relativo = abs((integral - antigo) / integral)\n",
    "    \n",
    "    # Multiplicando o valor da integral por h/3\n",
    "    return integral * (h / 3), error_relativo * (h / 3)"
   ]
  },
  {
   "cell_type": "code",
   "execution_count": 6,
   "metadata": {},
   "outputs": [
    {
     "name": "stdout",
     "output_type": "stream",
     "text": [
      "Transferência de calor para o período de 10 segundos calculada numericamente via regra de 1/3 Simpson com 10 intervalos: 70700.22565083884\n",
      "Erro relativo da integral numérica (Regra de 1/3 Simpson) para o período de 10 segundos: 0.09728235182161926\n",
      "\n",
      "Transferência de calor para o período de 60 segundos calculada numericamente via regra de 1/3 Simpson com 10 intervalos: 12766615.418039462\n",
      "Erro relativo da integral numérica (Regra de 1/3 Simpson) para o período de 60 segundos: 0.6458591689918378\n",
      "\n",
      "Transferência de calor para o período de 3600 segundos calculada numericamente via regra de 1/3 Simpson com 10 intervalos: 2742067498011.093\n",
      "Erro relativo da integral numérica (Regra de 1/3 Simpson) para o período de 3600 segundos: 38.879959376630296\n"
     ]
    }
   ],
   "source": [
    "# Cálculo da transferência de calor para os três períodos usando a regra de 1/3 Simpson\n",
    "\n",
    "Q1_simpson, erro_relativo_1 = simpson(q, t_inicial, t_final_1, n)\n",
    "Q2_simpson, erro_relativo_2 = simpson(q, t_inicial, t_final_2, n)\n",
    "Q3_simpson, erro_relativo_3 = simpson(q, t_inicial, t_final_3, n)\n",
    "\n",
    "print(f\"Transferência de calor para o período de {t_final_1} segundos calculada numericamente via regra de 1/3 Simpson com {n} intervalos: {Q1_simpson}\")\n",
    "print(f\"Erro relativo da integral numérica (Regra de 1/3 Simpson) para o período de {t_final_1} segundos: {erro_relativo_1}\")\n",
    "print(\"\")\n",
    "print(f\"Transferência de calor para o período de {t_final_2} segundos calculada numericamente via regra de 1/3 Simpson com {n} intervalos: {Q2_simpson}\")\n",
    "print(f\"Erro relativo da integral numérica (Regra de 1/3 Simpson) para o período de {t_final_2} segundos: {erro_relativo_2}\")\n",
    "print(\"\")\n",
    "print(f\"Transferência de calor para o período de {t_final_3} segundos calculada numericamente via regra de 1/3 Simpson com {n} intervalos: {Q3_simpson}\")\n",
    "print(f\"Erro relativo da integral numérica (Regra de 1/3 Simpson) para o período de {t_final_3} segundos: {erro_relativo_3}\")"
   ]
  },
  {
   "cell_type": "markdown",
   "metadata": {},
   "source": [
    "d) Calculando o erro relativo entre a Regra do Trapézio e a Regra 1/3 de Simpson"
   ]
  },
  {
   "cell_type": "code",
   "execution_count": 7,
   "metadata": {},
   "outputs": [
    {
     "name": "stdout",
     "output_type": "stream",
     "text": [
      "Erro relativo para o período de 10 segundos entre a regra do trapézio e a regra de 1/3 Simpson calculada numericamente com 10 intervalos: 0.004156416168302658\n",
      "Erro relativo para o período de 60 segundos entre a regra do trapézio e a regra de 1/3 Simpson calculada numericamente com 10 intervalos: 0.9666344996443518\n",
      "Erro relativo para o período de 3600 segundos entre a regra do trapézio e a regra de 1/3 Simpson calculada numericamente com 10 intervalos: 0.9999906793429794\n"
     ]
    }
   ],
   "source": [
    "print(f\"Erro relativo para o período de {t_final_1} segundos entre a regra do trapézio e a regra de 1/3 Simpson calculada numericamente com {n} intervalos: {abs(Q1_simpson - Q1_trapezio) / Q1_simpson}\")\n",
    "print(f\"Erro relativo para o período de {t_final_2} segundos entre a regra do trapézio e a regra de 1/3 Simpson calculada numericamente com {n} intervalos: {abs(Q2_simpson - Q2_trapezio) / Q2_simpson}\")\n",
    "print(f\"Erro relativo para o período de {t_final_3} segundos entre a regra do trapézio e a regra de 1/3 Simpson calculada numericamente com {n} intervalos: {abs(Q3_simpson - Q3_trapezio) / Q3_simpson}\")"
   ]
  },
  {
   "cell_type": "markdown",
   "metadata": {},
   "source": [
    "<h2 style=\"text-align: center;\">Resultados:</h2>\n",
    "\n",
    "| Período | Regra do Trapézio | Regra 1/3 de Simpson |    Erro relativo     |\n",
    "|---------|-------------------|----------------------|----------------------|\n",
    "| 10s     | 70994,08521183663 |   70700,22565083884  | 0,004156416168302658 |\n",
    "| 60s     | 425964,5112710198 |  12766615,418039462  | 0,9666344996443518   |\n",
    "| 3600s   | 25557870,67626119 |   2742067498011,093  | 0,9999906793429794   |"
   ]
  },
  {
   "cell_type": "markdown",
   "metadata": {},
   "source": [
    "<h2 style=\"text-align: center;\">Analise em Relação a Primeira Tarefa:</h2>\n",
    "\n",
    "Após analisar os resultados o comportamento dos mesmos reflete os da primeira tarefa. Isso se deve ao fato de quando se integra com a regra do trapézio quando maior o período maior seu erro."
   ]
  }
 ],
 "metadata": {
  "kernelspec": {
   "display_name": "Python 3",
   "language": "python",
   "name": "python3"
  },
  "language_info": {
   "codemirror_mode": {
    "name": "ipython",
    "version": 3
   },
   "file_extension": ".py",
   "mimetype": "text/x-python",
   "name": "python",
   "nbconvert_exporter": "python",
   "pygments_lexer": "ipython3",
   "version": "3.11.0rc1"
  }
 },
 "nbformat": 4,
 "nbformat_minor": 2
}
