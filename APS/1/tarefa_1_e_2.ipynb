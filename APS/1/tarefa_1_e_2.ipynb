{
 "cells": [
  {
   "cell_type": "markdown",
   "metadata": {},
   "source": [
    "Para a seguinte função, que modela a taxa de transferência de calor:\n",
    "$$q(t) = q_{max} \\cdot \\sin(\\frac {2\\pi t} T) + q_{base}$$\n",
    "onde $q_{max}$ é a máxima variação da taxa de transferência de calor, 𝑇 é o período da variação, $q_{base}$ é a cota inferior de transferência de calor e 𝑡 é o tempo dado em segundos, calcule a quantidade total de energia térmica transferida em um período. Use os dados indicados na tabela considerando 10 intervalos de integração. Para cada período, calcule o erro relativo entre os dois métodos numéricos utilizados."
   ]
  },
  {
   "cell_type": "code",
   "execution_count": 1,
   "metadata": {},
   "outputs": [],
   "source": [
    "import numpy as np\n",
    "\n",
    "t_inicial = 0        # Tempo inicial (s)\n",
    "t_final_1 = 10       # Tempo final para o primeiro período (s)\n",
    "t_final_2 = 60       # Tempo final para o segundo período (s)\n",
    "t_final_3 = 3600     # Tempo final para o terceiro período (s)\n",
    "\n",
    "n = 10               # Número de intervalos de integração\n",
    "\n",
    "# Valores da tabela para o grupo 11\n",
    "\n",
    "q_max = 526.3157895  # Máxima variação da taxa de transferência de calor (W/m²)\n",
    "q_base = 1052.631579 # Cota inferior de transferência de calor (W/m²)\n",
    "\n",
    "# Função para calcular a taxa de transferência de calor\n",
    "def q(t : float, T: float) -> float:\n",
    "    return q_max * np.sin(2 * np.pi * t / T) + q_base"
   ]
  },
  {
   "cell_type": "markdown",
   "metadata": {},
   "source": [
    "a) Analise analitica:"
   ]
  },
  {
   "cell_type": "code",
   "execution_count": 2,
   "metadata": {},
   "outputs": [
    {
     "name": "stdout",
     "output_type": "stream",
     "text": [
      "Equação analítica da transferência de calor para o pérido de 10 segundos: 526.3157895*sin(pi*t/5) + 1052.631579\n",
      "Equação analítica da transferência de calor para o pérido de 60 segundos: 526.3157895*sin(pi*t/30) + 1052.631579\n",
      "Equação analítica da transferência de calor para o pérido de 3600 segundos: 526.3157895*sin(pi*t/1800) + 1052.631579\n",
      "\n",
      "Transferência de calor para o período de 10 segundos: 10526.3157900000\n",
      "Transferência de calor para o período de 60 segundos: 63157.8947400000\n",
      "Transferência de calor para o período de 3600 segundos: 3789473.68440000\n"
     ]
    }
   ],
   "source": [
    "import sympy as sp\n",
    "\n",
    "t = sp.symbols('t')\n",
    "\n",
    "q1_analitico = q_max * sp.sin(2 * sp.pi * t / t_final_1) + q_base\n",
    "q2_analitico = q_max * sp.sin(2 * sp.pi * t / t_final_2) + q_base\n",
    "q3_analitico = q_max * sp.sin(2 * sp.pi * t / t_final_3) + q_base\n",
    "\n",
    "Q1 = sp.integrate(q1_analitico, (t, t_inicial, t_final_1))\n",
    "Q2 = sp.integrate(q2_analitico, (t, t_inicial, t_final_2))\n",
    "Q3 = sp.integrate(q3_analitico, (t, t_inicial, t_final_3))\n",
    "\n",
    "print(f\"Equação analítica da transferência de calor para o pérido de {t_final_1} segundos: {q1_analitico}\")\n",
    "print(f\"Equação analítica da transferência de calor para o pérido de {t_final_2} segundos: {q2_analitico}\")\n",
    "print(f\"Equação analítica da transferência de calor para o pérido de {t_final_3} segundos: {q3_analitico}\")\n",
    "print(\"\")\n",
    "\n",
    "# Calculando a integral da função q(t) para os três períodos\n",
    "print(f\"Transferência de calor para o período de {t_final_1} segundos: {Q1.evalf()}\")\n",
    "print(f\"Transferência de calor para o período de {t_final_2} segundos: {Q2.evalf()}\")\n",
    "print(f\"Transferência de calor para o período de {t_final_3} segundos: {Q3.evalf()}\")"
   ]
  },
  {
   "cell_type": "markdown",
   "metadata": {},
   "source": [
    "b) Regra do Trapézio:\n",
    "\n",
    "$$\\int \\limits_{a}^{b} f(x) dx \\approx \\sum \\limits_{i=0}^{n - 1} \\frac {f_i + f_{i + 1}} {2} \\Delta x $$"
   ]
  },
  {
   "cell_type": "code",
   "execution_count": 3,
   "metadata": {},
   "outputs": [],
   "source": [
    "from collections.abc import Callable\n",
    "\n",
    "def trapezio(f : Callable[[float], float], a : float, b : float, n : int) -> tuple[float, float]:\n",
    "    \"\"\"\n",
    "    Regra do trapézio para integração numérica\n",
    "\n",
    "    Parametros\n",
    "    ----------\n",
    "    f : Função a ser integrada\n",
    "    a : Limite inferior de integração\n",
    "    b : Limite superior de integração\n",
    "    n : Número de intervalos de integração\n",
    "\n",
    "    Retorna\n",
    "    -------\n",
    "    integral      : Valor da integral numérica\n",
    "    erro_relativo : Valor do erro relativo da integral numérica\n",
    "    \"\"\"\n",
    "    \n",
    "    delta_x = (b - a) / n # Largura de cada intervalo\n",
    "\n",
    "    resultado = 0         # Valor inicial da integral\n",
    "    erro_relativo = 0     # Valor inicial do erro relativo\n",
    "\n",
    "    # Cálculo da somatória dos trapézios\n",
    "    for i in range(0, n):\n",
    "        antigo = resultado\n",
    "        \n",
    "        resultado += (f(i) + f(i+1)) / 2 * delta_x\n",
    "\n",
    "        erro_relativo = abs((resultado - antigo) / resultado)\n",
    "\n",
    "    return resultado, erro_relativo"
   ]
  },
  {
   "cell_type": "code",
   "execution_count": 4,
   "metadata": {},
   "outputs": [
    {
     "name": "stdout",
     "output_type": "stream",
     "text": [
      "Transferência de calor para o período de 10 segundos: 10526.31579\n",
      "Erro relativo para o período de 10 segundos: 0.08530536869268823\n",
      "\n",
      "Transferência de calor para o período de 60 segundos: 78221.95002053864\n",
      "Erro relativo para o período de 60 segundos: 0.11455343747307402\n",
      "\n",
      "Transferência de calor para o período de 3600 segundos: 3806007.9586549285\n",
      "Erro relativo para o período de 3600 segundos: 0.10039096609988778\n"
     ]
    }
   ],
   "source": [
    "# Cálculo da transferência de calor para os três períodos usando a regra do trapézio\n",
    "\n",
    "Q1_trapezio, erro_relativo_1 = trapezio(lambda t : q(t, t_final_1), t_inicial, t_final_1, n)\n",
    "Q2_trapezio, erro_relativo_2 = trapezio(lambda t : q(t, t_final_2), t_inicial, t_final_2, n)\n",
    "Q3_trapezio, erro_relativo_3 = trapezio(lambda t : q(t, t_final_3), t_inicial, t_final_3, n)\n",
    "\n",
    "print(f\"Transferência de calor para o período de {t_final_1} segundos: {Q1_trapezio}\")\n",
    "print(f\"Erro relativo para o período de {t_final_1} segundos: {erro_relativo_1}\")\n",
    "print(\"\")\n",
    "print(f\"Transferência de calor para o período de {t_final_2} segundos: {Q2_trapezio}\")\n",
    "print(f\"Erro relativo para o período de {t_final_2} segundos: {erro_relativo_2}\")\n",
    "print(\"\")\n",
    "print(f\"Transferência de calor para o período de {t_final_3} segundos: {Q3_trapezio}\")\n",
    "print(f\"Erro relativo para o período de {t_final_3} segundos: {erro_relativo_3}\")"
   ]
  },
  {
   "cell_type": "markdown",
   "metadata": {},
   "source": [
    "c) Regra 1/3 de Simpson:\n",
    "\n",
    "$$ \\int \\limits_{a}^{b} f(x) dx \\approx \\frac h 3 [f(x_0) + 2 \\sum \\limits_{j=1}^{\\frac n 2 - 1} f(x_{2j}) + 4 \\sum \\limits_{j=1}^{\\frac n 2} f(x_{2j-1}) + f(x_n)]$$"
   ]
  },
  {
   "cell_type": "code",
   "execution_count": 5,
   "metadata": {},
   "outputs": [],
   "source": [
    "def simpson(f : Callable[[float], float], a : float, b : float, n : int) -> tuple[float, float]:\n",
    "    \"\"\"\n",
    "    Regra de 1/3 Simpson para integração numérica\n",
    "\n",
    "    Parametros\n",
    "    ----------\n",
    "    f : Função a ser integrada\n",
    "    a : Limite inferior de integração\n",
    "    b : Limite superior de integração\n",
    "    n : Número de intervalos de integração\n",
    "\n",
    "    Retorna\n",
    "    -------\n",
    "    integral : Valor da integral numérica\n",
    "    erro_relativo : Valor do erro relativo da integral numérica\n",
    "    \"\"\"\n",
    "\n",
    "    h = (b - a) / n             # Calculando o valor de h\n",
    "    \n",
    "    integral = f(a) + f(b)       # f(x0) + f(xn)\n",
    "    error_relativo = 0           # Valor inicial do erro relativo\n",
    "\n",
    "    # Calculando as somatorias de f(x2j) e f(x2j-1)\n",
    "    for j in range(1, n):\n",
    "        antigo = integral\n",
    "\n",
    "        x = a + h * j            # Calculando o valor de x para cada intervalo\n",
    "        \n",
    "        if j % 2 == 0:\n",
    "            integral += 2 * f(x) # 2 * somatorio de f(x2j)\n",
    "        else:\n",
    "            integral += 4 * f(x) # 4 * somatorio de f(x2j-1)\n",
    "        \n",
    "        error_relativo = abs((integral - antigo) / integral)\n",
    "    \n",
    "    # Multiplicando o valor da integral por h/3\n",
    "    return integral * (h / 3), error_relativo * (h / 3)"
   ]
  },
  {
   "cell_type": "code",
   "execution_count": 6,
   "metadata": {},
   "outputs": [
    {
     "name": "stdout",
     "output_type": "stream",
     "text": [
      "Transferência de calor para o período de 10 segundos: 10526.31579\n",
      "Erro relativo para o período de 10 segundos: 0.03138254994905613\n",
      "\n",
      "Transferência de calor para o período de 60 segundos: 63157.89474000001\n",
      "Erro relativo para o período de 60 segundos: 0.18829529969433678\n",
      "\n",
      "Transferência de calor para o período de 3600 segundos: 3789473.6844000006\n",
      "Erro relativo para o período de 3600 segundos: 11.297717981660206\n"
     ]
    }
   ],
   "source": [
    "# Cálculo da transferência de calor para os três períodos usando a regra de 1/3 Simpson\n",
    "\n",
    "Q1_simpson, erro_relativo_1 = simpson(lambda t : q(t, t_final_1), t_inicial, t_final_1, n)\n",
    "Q2_simpson, erro_relativo_2 = simpson(lambda t : q(t, t_final_2), t_inicial, t_final_2, n)\n",
    "Q3_simpson, erro_relativo_3 = simpson(lambda t : q(t, t_final_3), t_inicial, t_final_3, n)\n",
    "\n",
    "print(f\"Transferência de calor para o período de {t_final_1} segundos: {Q1_simpson}\")\n",
    "print(f\"Erro relativo para o período de {t_final_1} segundos: {erro_relativo_1}\")\n",
    "print(\"\")\n",
    "print(f\"Transferência de calor para o período de {t_final_2} segundos: {Q2_simpson}\")\n",
    "print(f\"Erro relativo para o período de {t_final_2} segundos: {erro_relativo_2}\")\n",
    "print(\"\")\n",
    "print(f\"Transferência de calor para o período de {t_final_3} segundos: {Q3_simpson}\")\n",
    "print(f\"Erro relativo para o período de {t_final_3} segundos: {erro_relativo_3}\")"
   ]
  },
  {
   "cell_type": "markdown",
   "metadata": {},
   "source": [
    "d) Calculando o erro relativo entre a Regra do Trapézio e a Regra 1/3 de Simpson"
   ]
  },
  {
   "cell_type": "code",
   "execution_count": 7,
   "metadata": {},
   "outputs": [
    {
     "name": "stdout",
     "output_type": "stream",
     "text": [
      "Erro relativo para o período de 10 segundos: 0.0\n",
      "Erro relativo para o período de 60 segundos: 0.2385142085966026\n",
      "Erro relativo para o período de 3600 segundos: 0.004363211261498918\n"
     ]
    }
   ],
   "source": [
    "print(f\"Erro relativo para o período de {t_final_1} segundos: {abs(Q1_simpson - Q1_trapezio) / Q1_simpson}\")\n",
    "print(f\"Erro relativo para o período de {t_final_2} segundos: {abs(Q2_simpson - Q2_trapezio) / Q2_simpson}\")\n",
    "print(f\"Erro relativo para o período de {t_final_3} segundos: {abs(Q3_simpson - Q3_trapezio) / Q3_simpson}\")"
   ]
  },
  {
   "cell_type": "markdown",
   "metadata": {},
   "source": [
    "<h2 style=\"text-align: center;\">Resultados:</h2>\n",
    "\n",
    "| Período | Regra do Trapézio  | Regra 1/3 de Simpson |     Erro relativo    |\n",
    "|---------|--------------------|----------------------|----------------------|\n",
    "| 10s     |     10526,31579    |      10526,31579     |          0,0         |\n",
    "| 60s     | 78221,95002053864  |   63157,89474000001  |  0,2385142085966026  |\n",
    "| 3600s   | 3806007,9586549285 |  3789473,6844000006  | 0,004363211261498918 |"
   ]
  },
  {
   "cell_type": "markdown",
   "metadata": {},
   "source": [
    "Tarefa 2:\n",
    "\n",
    "Repita o exercício anterior, para calcular a quantidade total de energia térmica transferida em 3600s usando os diferentes métodos numéricos indicados na tabela."
   ]
  },
  {
   "cell_type": "code",
   "execution_count": 8,
   "metadata": {},
   "outputs": [
    {
     "name": "stdout",
     "output_type": "stream",
     "text": [
      "Transferência de calor para o período de 3600 segundos com 20 intervalos usando a regra do trapézio: 3822539.7146598017\n",
      "Erro relativo para o período de 3600 segundos com 20 intervalos usando a regra do trapézio: 0.0504108109028823\n",
      "\n",
      "Transferência de calor para o período de 3600 segundos com 20 intervalos usando a regra de 1/3 Simpson: 3789473.6844\n",
      "Erro relativo para o período de 3600 segundos com 20 intervalos usando a regra de 1/3 Simpson: 3.3819660112501038\n",
      "\n",
      "Erro relativo entre as duas regras para o período de 3600 segundos com 20 intervalos: 0.008725757984789119\n"
     ]
    }
   ],
   "source": [
    "Q3_trapezio_20, erro_relativo_t_20 = trapezio(lambda t : q(t, t_final_3), t_inicial, t_final_3, 20)\n",
    "Q3_simpson_20, erro_relativo_s_20 = simpson(lambda t : q(t, t_final_3), t_inicial, t_final_3, 20)\n",
    "\n",
    "print(f\"Transferência de calor para o período de {t_final_3} segundos com 20 intervalos usando a regra do trapézio: {Q3_trapezio_20}\")\n",
    "print(f\"Erro relativo para o período de {t_final_3} segundos com 20 intervalos usando a regra do trapézio: {erro_relativo_t_20}\")\n",
    "print(\"\")\n",
    "print(f\"Transferência de calor para o período de {t_final_3} segundos com 20 intervalos usando a regra de 1/3 Simpson: {Q3_simpson_20}\")\n",
    "print(f\"Erro relativo para o período de {t_final_3} segundos com 20 intervalos usando a regra de 1/3 Simpson: {erro_relativo_s_20}\")\n",
    "print(\"\")\n",
    "print(f\"Erro relativo entre as duas regras para o período de {t_final_3} segundos com 20 intervalos: {abs(Q3_simpson_20 - Q3_trapezio_20) / Q3_simpson_20}\")"
   ]
  },
  {
   "cell_type": "code",
   "execution_count": 9,
   "metadata": {},
   "outputs": [
    {
     "name": "stdout",
     "output_type": "stream",
     "text": [
      "Transferência de calor para o período de 3600 segundos com 30 intervalos usando a regra do trapézio: 3839066.4346759543\n",
      "Erro relativo para o período de 3600 segundos com 30 intervalos usando a regra do trapézio: 0.033749396600548036\n",
      "\n",
      "Transferência de calor para o período de 3600 segundos com 30 intervalos usando a regra de 1/3 Simpson: 3789473.684400001\n",
      "Erro relativo para o período de 3600 segundos com 30 intervalos usando a regra de 1/3 Simpson: 1.592967385939768\n",
      "\n",
      "Erro relativo entre as duas regras para o período de 3600 segundos com 30 intervalos: 0.013086975766611077\n"
     ]
    }
   ],
   "source": [
    "Q3_trapezio_30, erro_relativo_t_30 = trapezio(lambda t : q(t, t_final_3), t_inicial, t_final_3, 30)\n",
    "Q3_simpson_30, erro_relativo_s_30 = simpson(lambda t : q(t, t_final_3), t_inicial, t_final_3, 30)\n",
    "\n",
    "print(f\"Transferência de calor para o período de {t_final_3} segundos com 30 intervalos usando a regra do trapézio: {Q3_trapezio_30}\")\n",
    "print(f\"Erro relativo para o período de {t_final_3} segundos com 30 intervalos usando a regra do trapézio: {erro_relativo_t_30}\")\n",
    "print(\"\")\n",
    "print(f\"Transferência de calor para o período de {t_final_3} segundos com 30 intervalos usando a regra de 1/3 Simpson: {Q3_simpson_30}\")\n",
    "print(f\"Erro relativo para o período de {t_final_3} segundos com 30 intervalos usando a regra de 1/3 Simpson: {erro_relativo_s_30}\")\n",
    "print(\"\")\n",
    "print(f\"Erro relativo entre as duas regras para o período de {t_final_3} segundos com 30 intervalos: {abs(Q3_simpson_30 - Q3_trapezio_30) / Q3_simpson_30}\")"
   ]
  },
  {
   "cell_type": "markdown",
   "metadata": {},
   "source": [
    "<h2 style=\"text-align: center;\">Resultados:</h2>\n",
    "\n",
    "| Nº de intervalos de integração | Regra do Trapézio  | Regra 1/3 de Simpson |     Erro relativo    |\n",
    "|--------------------------------|--------------------|----------------------|----------------------|\n",
    "| 10                             | 3806007,9586549285 |  3789473,6844000006  | 0,004363211261498918 |\n",
    "| 20                             | 3822539,7146598017 |     3789473,6844     | 0,008725757984789119 |\n",
    "| 30                             | 3839066,4346759543 |   3789473,684400001  | 0,013086975766611077 |"
   ]
  }
 ],
 "metadata": {
  "kernelspec": {
   "display_name": "Python 3",
   "language": "python",
   "name": "python3"
  },
  "language_info": {
   "codemirror_mode": {
    "name": "ipython",
    "version": 3
   },
   "file_extension": ".py",
   "mimetype": "text/x-python",
   "name": "python",
   "nbconvert_exporter": "python",
   "pygments_lexer": "ipython3",
   "version": "3.12.1"
  }
 },
 "nbformat": 4,
 "nbformat_minor": 2
}
