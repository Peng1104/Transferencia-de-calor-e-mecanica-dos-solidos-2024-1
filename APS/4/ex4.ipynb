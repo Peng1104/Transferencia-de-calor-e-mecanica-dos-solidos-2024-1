{
 "cells": [
  {
   "cell_type": "markdown",
   "metadata": {},
   "source": [
    "![](ex4_1.png) ![](ex4_2.png)"
   ]
  },
  {
   "cell_type": "code",
   "execution_count": 1,
   "metadata": {
    "metadata": {}
   },
   "outputs": [],
   "source": [
    "# Constantes fornecidas no enunciado\n",
    "\n",
    "T1 = 30           # C\n",
    "T2 = 60           # C\n",
    "DELTA_T = T2 - T1 # C\n",
    "L = 1             # m\n",
    "A = 1e-4          # m² (10mmx10mm)\n",
    "E = 200e9         # Pa\n",
    "ALPHA = 12e-6     # 1/C"
   ]
  },
  {
   "cell_type": "markdown",
   "metadata": {},
   "source": [
    "$$ \\delta_{T} = \\alpha \\cdot \\Delta T \\cdot L $$\n",
    "\n",
    "$$ \\delta_{F} = \\frac {F \\cdot L} {E \\cdot A} $$\n",
    "\n",
    "$$ \\alpha \\cdot \\Delta T \\cdot L = \\frac {F \\cdot L} {E \\cdot A} $$\n",
    "\n",
    "$$ \\alpha \\cdot \\Delta T = \\frac {F} {E \\cdot A} $$\n",
    "\n",
    "$$ \\frac {F} {A} = \\alpha \\cdot \\Delta T \\cdot E $$"
   ]
  },
  {
   "cell_type": "code",
   "execution_count": 2,
   "metadata": {
    "metadata": {}
   },
   "outputs": [
    {
     "name": "stdout",
     "output_type": "stream",
     "text": [
      "A tensão térmica normal média é de 72 MPa.\n"
     ]
    }
   ],
   "source": [
    "print(f\"A tensão térmica normal média é de {(E * ALPHA * DELTA_T)/1e6:.0f} MPa.\")"
   ]
  }
 ],
 "metadata": {
  "kernelspec": {
   "display_name": "Python 3",
   "language": "python",
   "name": "python3"
  },
  "language_info": {
   "codemirror_mode": {
    "name": "ipython",
    "version": 3
   },
   "file_extension": ".py",
   "mimetype": "text/x-python",
   "name": "python",
   "nbconvert_exporter": "python",
   "pygments_lexer": "ipython3",
   "version": "3.12.3"
  }
 },
 "nbformat": 4,
 "nbformat_minor": 2
}
