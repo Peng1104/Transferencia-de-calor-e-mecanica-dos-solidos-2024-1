{
 "cells": [
  {
   "cell_type": "markdown",
   "metadata": {},
   "source": [
    "Delta da APS 3 - Lucas Hix"
   ]
  },
  {
   "cell_type": "markdown",
   "metadata": {},
   "source": [
    "1) A hipótese de condução unidimensional de calor para superfície estendida assume que a temperatura varia apenas ao longo do comprimento da superfície estendida, sendo que na realidade a condução de calor é tridimensional. Em regiões próximas à base e à extremidade as temperaturas nas direções transversal e radial são afetadas pelos efeitos de borda, e por isso a hipótese é uma aproximação. A hipótese desconsidera essas variações de temperatura, assumindo que elas são pequenas o suficiente para não afetar significativamente o cálculo da taxa de transferência de calor.</p>\n",
    "<p>Em situações onde o comprimento da superfície estendida é muito maior que o seu diâmetro ou se a superfície estendida é relativamente fina ou se a espessura da superfície estendida é pequena em comparação ao seu comprimento, e a condução térmica do material for elevada as premissas da hipótese são verdadeiras. "
   ]
  },
  {
   "cell_type": "code",
   "execution_count": 1,
   "metadata": {},
   "outputs": [
    {
     "name": "stdout",
     "output_type": "stream",
     "text": [
      "A taxa de transferência de calor é de 1.314037561580925 W para a condição de extremidade adiabática.\n",
      "A taxa de transferência de calor é de 1.314407457358112 W para a temperatura na extremidade da aleta de 0 C.\n"
     ]
    }
   ],
   "source": [
    "# 2)\n",
    "import numpy as np\n",
    "\n",
    "# Dados do Problema:\n",
    "L = 0.04  # m      (Comprimento da aleta)\n",
    "D = 0.002 # m      (Diâmetro da aleta)\n",
    "h = 1000  # W/m^2K (Coeficiente de convecção da película)\n",
    "k = 140   # W/mK   (Condutividade térmica do alumínio, material da aleta)\n",
    "Tb = 50   # C      (Temperatura fixa na base da aleta)\n",
    "Tinf = 25 # C      (Temperatura do fluido)\n",
    "\n",
    "# Calculando os parâmetros da aleta:\n",
    "\n",
    "Atr = np.pi * (D/2)**2 # m^2    # Área transversal da aleta\n",
    "\n",
    "P = np.pi * D # m               # Perimetro da aleta\n",
    "\n",
    "thetaB = Tb - Tinf              # Diferença de temperatura base-fluido\n",
    "\n",
    "m = np.sqrt((h*P) / (k*Atr))    # Parâmetro característico da aleta\n",
    "\n",
    "M = np.sqrt(h*P*k*Atr) * thetaB # Coeficiente de transferência de calor da aleta\n",
    "\n",
    "# Resolvendo o problema:\n",
    "\n",
    "# Para a condição de extremidade adiabática:\n",
    "Q = M * np.tanh(m*L)\n",
    "\n",
    "print(f\"A taxa de transferência de calor é de {Q} W para a condição de extremidade adiabática.\")\n",
    "\n",
    "# Para temperatura específica na extremidade da aleta:\n",
    "thetaL = 0 # C\n",
    "\n",
    "Q = M * ((np.cosh(m*L) - thetaL/thetaB) / np.sinh(m*L))\n",
    "\n",
    "print(f\"A taxa de transferência de calor é de {Q} W para a temperatura na extremidade da aleta de {thetaL} C.\")"
   ]
  }
 ],
 "metadata": {
  "kernelspec": {
   "display_name": "Python 3",
   "language": "python",
   "name": "python3"
  },
  "language_info": {
   "codemirror_mode": {
    "name": "ipython",
    "version": 3
   },
   "file_extension": ".py",
   "mimetype": "text/x-python",
   "name": "python",
   "nbconvert_exporter": "python",
   "pygments_lexer": "ipython3",
   "version": "3.12.1"
  }
 },
 "nbformat": 4,
 "nbformat_minor": 2
}
