{
 "cells": [
  {
   "cell_type": "markdown",
   "metadata": {},
   "source": [
    "<h2 style=\"text-align: center;\">PERGUNTA 1</h2>\n",
    "\n",
    "Conforme ilustra a figura abaixo, um tubo de água passa através de uma parede externa com 6 𝑖𝑛 de espessura. Admitindo-se que as temperaturas variem linearmente de 69℉ a 20℉ com a posição 𝑥 através da parede, qual a temperatura no tubo? Dica: considere o tubo um ponto material.\n",
    "\n",
    "![img](es-4-Pergunta-1.png)"
   ]
  },
  {
   "cell_type": "markdown",
   "metadata": {},
   "source": [
    "<h2 style=\"text-align: center;\">Resolução:</h2>\n",
    "\n",
    "$$ Q = \\frac {k \\cdot A (T_1 - T_2)} d $$\n",
    "\n",
    "onde:\n",
    "\n",
    "* Q é a taxa de fluxo de calor através da parede\n",
    "* k é a condutividade térmica do material da parede\n",
    "* A é a área da seção transversal da parede\n",
    "* $T_1$ é a temperatura do lado quente da parede\n",
    "* $T_2$ é a temperatura do lado frio da parede\n",
    "* d é a espessura da parede\n"
   ]
  },
  {
   "cell_type": "code",
   "execution_count": null,
   "metadata": {},
   "outputs": [],
   "source": [
    "T_quente = 69 # ℉\n",
    "T_fria = 20 # ℉\n",
    "espessura = 6 # polegadas\n",
    "\n",
    "def q(t : float) -> float:\n",
    "    return T_quente - (T_quente - T_fria) / espessura * t"
   ]
  },
  {
   "cell_type": "markdown",
   "metadata": {},
   "source": [
    "<h2 style=\"text-align: center;\">PERGUNTA 2</h2>\n",
    "\n",
    "Considere as informações do \"exercício 2\" da aula 4 e os dados indicados para determinar a eficiência da planta de potência, levando em conta efeitos da transferência de calor para e a partir dos reservatórios frio e quente. Trate a planta de potência como uma máquina térmica internamente reversível. Indique a resposta em porcentagem.\n",
    "\n",
    "Dados:\n",
    "\n",
    "* Tf = 313K\n",
    "* Tq = 1401K"
   ]
  }
 ],
 "metadata": {
  "language_info": {
   "name": "python"
  }
 },
 "nbformat": 4,
 "nbformat_minor": 2
}
