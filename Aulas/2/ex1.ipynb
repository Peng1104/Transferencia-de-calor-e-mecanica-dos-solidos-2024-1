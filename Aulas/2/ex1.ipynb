{
 "cells": [
  {
   "cell_type": "markdown",
   "metadata": {},
   "source": [
    "Exercício 1:\n",
    "Use parte da tabela de\n",
    "vapor d’água\n",
    "superaquecido a 200\n",
    "kPa para determinar a\n",
    "entropia\n",
    "correspondente a um\n",
    "volume específico de\n",
    "1,34567 m³/kg.\n",
    "Considere interpolação\n",
    "linear de Newton e\n",
    "Lagrange."
   ]
  },
  {
   "cell_type": "markdown",
   "metadata": {},
   "source": [
    "![Tabela contendo os dados para o ex1](Tabela_do_ex1.png)\n"
   ]
  },
  {
   "cell_type": "markdown",
   "metadata": {},
   "source": [
    "Classe para armazenar o par de valores dos dados"
   ]
  },
  {
   "cell_type": "code",
   "execution_count": null,
   "metadata": {},
   "outputs": [],
   "source": [
    "class DataPair:\n",
    "    def __init__(self, x : float, y : float) -> None:\n",
    "        self.x = x\n",
    "        self.y = y"
   ]
  },
  {
   "cell_type": "markdown",
   "metadata": {},
   "source": [
    "Valores para o exercicio:\n",
    "\n",
    "Volume = 1.34567 $\\frac{m^3} {kg}$\n",
    "\n",
    "Valores da Tabela para estimar a entropia do volume solicitado:\n",
    "\n",
    "\n",
    "Volume = 1.31623 $\\frac{m^3} {kg}$ - Entropia = 7.78941 $\\frac{kJ} {kg\\cdot K}$\n",
    "\n",
    "Volume = 1.54934 $\\frac{m^3} {kg}$ - Entropia = 8.2236 $\\frac{kJ} {kg\\cdot K}$"
   ]
  },
  {
   "cell_type": "code",
   "execution_count": null,
   "metadata": {},
   "outputs": [],
   "source": [
    "# Volume procurado\n",
    "volume = 1.34567 # m^3/kg\n",
    "\n",
    "# Dados da tabela, onde x é o volume e y é a pressão\n",
    "valores = [DataPair(1.31623, 7.78941), DataPair(1.54934, 8.2236)]"
   ]
  },
  {
   "cell_type": "markdown",
   "metadata": {},
   "source": [
    "A fórmula matemática do método de Newton é dada por:\n",
    "\n",
    "\\[ x_{n+1} = x_n - \\frac{f(x_n)}{f'(x_n)} \\]\n",
    "\n",
    "onde:\n",
    "- \\( x_{n+1} \\) é a próxima estimativa da raiz,\n",
    "- \\( x_n \\) é a estimativa atual da raiz,\n",
    "- \\( f(x_n) \\) é o valor da função no ponto \\( x_n \\),\n",
    "- \\( f'(x_n) \\) é a derivada da função no ponto \\( x_n \\).\n"
   ]
  },
  {
   "cell_type": "code",
   "execution_count": null,
   "metadata": {},
   "outputs": [],
   "source": [
    "def newton(target: float, values: list[DataPair]) -> float:\n",
    "    n = len(values)\n",
    "\n",
    "    coefficients: list[float] = []\n",
    "\n",
    "    for i in range(n):\n",
    "        coefficients.append(values[i].y)\n",
    "\n",
    "        for j in range(i):\n",
    "            coefficients[i] = (coefficients[i] -\n",
    "                               coefficients[j]) / (values[i].x - values[j].x)\n",
    "\n",
    "    result = coefficients[0]\n",
    "\n",
    "    for i in range(1, n):\n",
    "        term = 1\n",
    "\n",
    "        for j in range(i):\n",
    "            term *= (target - values[j].x)\n",
    "\n",
    "        result += coefficients[i] * term\n",
    "\n",
    "    return result\n",
    "\n",
    "print(f\"Volume calculado pela interpolação de Newton: {newton(volume, valores)}\")"
   ]
  },
  {
   "cell_type": "markdown",
   "metadata": {},
   "source": [
    "$ L(x) = \\sum \\limits_{i=0}^{n} y_i \\cdot \\prod \\limits_{j=0, j \\neq i}^{n} \\frac{x - x_j}{x_i - x_j} $\n",
    "\n",
    "onde:\n",
    "\n"
   ]
  },
  {
   "cell_type": "code",
   "execution_count": null,
   "metadata": {},
   "outputs": [],
   "source": [
    "def lagrange(target: float, values: list[DataPair]) -> float:\n",
    "    n = len(values)\n",
    "\n",
    "    result = 0.0\n",
    "\n",
    "    for i in range(n):\n",
    "        f_x = values[i].y\n",
    "\n",
    "        for j in range(n):\n",
    "            if j != i:\n",
    "                result += f_x * (target - values[j].x) / (values[i].x - values[j].x)\n",
    "    \n",
    "    return result\n",
    "\n",
    "print(f\"Volume calculado pela interpolação de Lagrange: {lagrange(volume, valores)}\")"
   ]
  }
 ],
 "metadata": {
  "language_info": {
   "name": "python"
  }
 },
 "nbformat": 4,
 "nbformat_minor": 2
}
