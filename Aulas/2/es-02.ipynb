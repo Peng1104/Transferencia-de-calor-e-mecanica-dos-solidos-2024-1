{
 "cells": [
  {
   "cell_type": "markdown",
   "metadata": {},
   "source": [
    "Calcule a integral de $f(x) = log_{10}(x)$ no intervalo $I = [6,10]$ utilizando o método de Simpson $1/3$ com $n = 500$."
   ]
  },
  {
   "cell_type": "code",
   "execution_count": 8,
   "metadata": {},
   "outputs": [],
   "source": [
    "from math import log10\n",
    "\n",
    "def f(x : float) -> float:\n",
    "    return log10(x)\n",
    "\n",
    "inicio = 6\n",
    "fim = 10\n",
    "n = 500"
   ]
  },
  {
   "cell_type": "markdown",
   "metadata": {},
   "source": [
    "a) Analiticamente"
   ]
  },
  {
   "cell_type": "code",
   "execution_count": 9,
   "metadata": {},
   "outputs": [
    {
     "name": "stdout",
     "output_type": "stream",
     "text": [
      "Resultado analito: -6*log(6)/log(10) - 4/log(10) + 10\n",
      "Aproximação númerica da expressão analitica: 3.59391457008513\n"
     ]
    }
   ],
   "source": [
    "import sympy as sp\n",
    "\n",
    "# Definindo a variável simbólica x\n",
    "x = sp.symbols('x')\n",
    "\n",
    "# F(x) = log(x) na base 10\n",
    "f_symbolic = sp.log(x, 10)\n",
    "\n",
    "analitico = sp.integrate(f_symbolic, (x, inicio, fim))\n",
    "\n",
    "print(f\"Resultado analito: {analitico}\")\n",
    "print(f\"Aproximação númerica da expressão analitica: {analitico.evalf()}\")"
   ]
  },
  {
   "cell_type": "markdown",
   "metadata": {},
   "source": [
    "b) Atravez do método de Simpson:"
   ]
  },
  {
   "cell_type": "markdown",
   "metadata": {},
   "source": [
    "$$ \\int \\limits_{a}^{b} f(x) dx \\approx \\frac h 3 [f(x_0) + 2 \\sum \\limits_{j=1}^{\\frac n 2 - 1} f(x_{2j}) + 4 \\sum \\limits_{j=1}^{\\frac n 2} f(x_{2j-1}) + f(x_n)]$$"
   ]
  },
  {
   "cell_type": "markdown",
   "metadata": {},
   "source": [
    "$$ \\int \\limits_{a}^{b} f(x) dx \\approx \\frac h 3 \\left\\{[f(x_0) + f(x_n)] + 2 \\sum \\limits_{j=1}^{\\frac n 2 - 1} f(x_{2j}) + 4 \\sum \\limits_{j=1}^{\\frac n 2} f(x_{2j-1})\\right\\}$$"
   ]
  },
  {
   "cell_type": "code",
   "execution_count": 10,
   "metadata": {},
   "outputs": [],
   "source": [
    "from collections.abc import Callable\n",
    "\n",
    "# a = inicio\n",
    "# b = fim\n",
    "# n = número de intervalos\n",
    "\n",
    "def simpson(inicio : float, fim : float, numero_de_intervalos : int, fucao : Callable[[float], float]) -> float:\n",
    "    # h = (b - a) / n\n",
    "    h = (fim - inicio) / numero_de_intervalos\n",
    "    \n",
    "    # [f(x0) + f(xn)]\n",
    "    resultado = fucao(inicio) + fucao(fim)\n",
    "\n",
    "    # Calculando as somas de f(x2j) e f(x2j-1)\n",
    "    for j in range(1, numero_de_intervalos):\n",
    "        # k = x2j -> x = inicio e h*j distancia do inicio\n",
    "        k = inicio + h * j\n",
    "        \n",
    "        if j % 2 == 0:\n",
    "            resultado += 2 * fucao(k) # 2 * somatorio de f(x2j)\n",
    "        else:\n",
    "            resultado += 4 * fucao(k) # 4 * somatorio de f(x2j-1)\n",
    "    \n",
    "    # h / 3 * [f(x0) +f (xn) + 4 * somatorio de f(x2j-1) + 2 * somatorio de f(x2j)]\n",
    "    return resultado * (h / 3)"
   ]
  },
  {
   "cell_type": "code",
   "execution_count": 12,
   "metadata": {},
   "outputs": [
    {
     "name": "stdout",
     "output_type": "stream",
     "text": [
      "Resultado numérico: 3.593914570085056\n",
      "Diferença entre o resultado analítico e o numérico: 7.50510764646606E-14\n"
     ]
    }
   ],
   "source": [
    "numerico = simpson(inicio, fim, n, f)\n",
    "\n",
    "print(f\"Resultado numérico: {numerico}\")\n",
    "print(f\"Diferença entre o resultado analítico e o numérico: {abs(analitico.evalf() - numerico)}\")"
   ]
  }
 ],
 "metadata": {
  "kernelspec": {
   "display_name": "Python 3",
   "language": "python",
   "name": "python3"
  },
  "language_info": {
   "codemirror_mode": {
    "name": "ipython",
    "version": 3
   },
   "file_extension": ".py",
   "mimetype": "text/x-python",
   "name": "python",
   "nbconvert_exporter": "python",
   "pygments_lexer": "ipython3",
   "version": "3.12.1"
  }
 },
 "nbformat": 4,
 "nbformat_minor": 2
}
