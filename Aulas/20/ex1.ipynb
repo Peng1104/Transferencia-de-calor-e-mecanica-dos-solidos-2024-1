{
 "cells": [
  {
   "cell_type": "markdown",
   "metadata": {},
   "source": [
    "![Alt Text](ex1.png \"Exercicio 1\")"
   ]
  },
  {
   "cell_type": "code",
   "execution_count": 1,
   "metadata": {
    "metadata": {}
   },
   "outputs": [],
   "source": [
    "from math import *"
   ]
  },
  {
   "cell_type": "code",
   "execution_count": 2,
   "metadata": {
    "metadata": {}
   },
   "outputs": [],
   "source": [
    "F1x = 5\n",
    "F2y = 10"
   ]
  },
  {
   "cell_type": "markdown",
   "metadata": {},
   "source": [
    "Na direção X:\n",
    "\n",
    "$$ R_x = 0 $$\n",
    "\n",
    "$$ 0 = F_{1_x} F_{A_x} $$\n",
    "\n",
    "$$ F_{1_x} = - F_{A_x} $$"
   ]
  },
  {
   "cell_type": "code",
   "execution_count": 3,
   "metadata": {
    "metadata": {}
   },
   "outputs": [
    {
     "name": "stdout",
     "output_type": "stream",
     "text": [
      "FAx = - 5 N\n"
     ]
    }
   ],
   "source": [
    "print(f\"FAx = - {F1x} N\")"
   ]
  },
  {
   "cell_type": "markdown",
   "metadata": {},
   "source": [
    "Na direção y:\n",
    "\n",
    "$$ R_y = 0 $$\n",
    "\n",
    "$$ 0 = F_{A_y} - F_{2_y} $$\n",
    "\n",
    "$$ F_{A_y} = F_{2_y} $$"
   ]
  },
  {
   "cell_type": "code",
   "execution_count": 4,
   "metadata": {
    "metadata": {}
   },
   "outputs": [
    {
     "name": "stdout",
     "output_type": "stream",
     "text": [
      "FAy = 10 N\n"
     ]
    }
   ],
   "source": [
    "print(f\"FAy = {F2y} N\")"
   ]
  }
 ],
 "metadata": {
  "kernelspec": {
   "display_name": "Python 3",
   "language": "python",
   "name": "python3"
  },
  "language_info": {
   "codemirror_mode": {
    "name": "ipython",
    "version": 3
   },
   "file_extension": ".py",
   "mimetype": "text/x-python",
   "name": "python",
   "nbconvert_exporter": "python",
   "pygments_lexer": "ipython3",
   "version": "3.12.2"
  }
 },
 "nbformat": 4,
 "nbformat_minor": 2
}
