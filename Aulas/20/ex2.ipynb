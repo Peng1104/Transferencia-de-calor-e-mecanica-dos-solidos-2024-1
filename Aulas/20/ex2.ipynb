{
 "cells": [
  {
   "cell_type": "markdown",
   "metadata": {},
   "source": [
    "![Alt text](ex2.png \"Ex2\")"
   ]
  },
  {
   "cell_type": "code",
   "execution_count": 31,
   "metadata": {
    "metadata": {}
   },
   "outputs": [],
   "source": [
    "from math import *"
   ]
  },
  {
   "cell_type": "code",
   "execution_count": 32,
   "metadata": {
    "metadata": {}
   },
   "outputs": [],
   "source": [
    "F = 40e3 # N\n",
    "T = 60e3 # Nm"
   ]
  },
  {
   "cell_type": "markdown",
   "metadata": {},
   "source": [
    "$$ R_x = 0 $$\n",
    "$$ F_{A_x} = 0 $$"
   ]
  },
  {
   "cell_type": "markdown",
   "metadata": {},
   "source": [
    "$$ R_y = 0 $$\n",
    "$$ 0 = -F + F_{A_y} + F_{B_y} $$\n",
    "$$ F_{A_y} + F_{B_y} = F $$\n",
    "$$ F_{A_y} = F - F_{B_y} $$"
   ]
  },
  {
   "cell_type": "markdown",
   "metadata": {},
   "source": [
    "Torque em relação ao ponto A:\n",
    "\n",
    "$$ T_R = 0 $$\n",
    "\n",
    "$$ 0 = 2 \\cdot -F + T + 6 \\cdot F_{B_y} $$\n",
    "\n",
    "$$ 6 \\cdot F_{B_y} = 2 \\cdot F - T $$\n",
    "\n",
    "$$ F_{B_y} = \\frac {1} {3} \\cdot F - \\frac {1} {6} \\cdot T $$"
   ]
  },
  {
   "cell_type": "code",
   "execution_count": 33,
   "metadata": {
    "metadata": {}
   },
   "outputs": [
    {
     "name": "stdout",
     "output_type": "stream",
     "text": [
      "Fby = 3.33 kN\n",
      "Fay = 36.67 kN\n"
     ]
    }
   ],
   "source": [
    "Fby = (1/3 * F) - (T / 6)\n",
    "\n",
    "Fay = F - Fby\n",
    "\n",
    "print(f\"Fby = {Fby/1000:.2f} kN\")\n",
    "print(f\"Fay = {Fay/1000:.2f} kN\")"
   ]
  },
  {
   "cell_type": "markdown",
   "metadata": {},
   "source": [
    "$$ C_V = F - F_{A_y} $$"
   ]
  },
  {
   "cell_type": "code",
   "execution_count": 34,
   "metadata": {
    "metadata": {}
   },
   "outputs": [
    {
     "name": "stdout",
     "output_type": "stream",
     "text": [
      "Cv = 3.33 kN\n"
     ]
    }
   ],
   "source": [
    "Cv = F - Fay\n",
    "\n",
    "print(f\"Cv = {Cv/1000:.2f} kN\")"
   ]
  },
  {
   "cell_type": "markdown",
   "metadata": {},
   "source": [
    "$$ C_F = 0 $$"
   ]
  },
  {
   "cell_type": "markdown",
   "metadata": {},
   "source": [
    "Em relação ao ponto A:\n",
    "\n",
    "$$ 0 = 2 \\cdot F + 2 \\cdot -C_V - C_M $$\n",
    "\n",
    "$$ C_M =  2 \\cdot F - 2 \\cdot Cv $$"
   ]
  },
  {
   "cell_type": "code",
   "execution_count": 37,
   "metadata": {
    "metadata": {}
   },
   "outputs": [
    {
     "name": "stdout",
     "output_type": "stream",
     "text": [
      "Cm = 73.33 kNm\n"
     ]
    }
   ],
   "source": [
    "Cm = 2 * F - 2 * Cv\n",
    "\n",
    "print(f\"Cm = {Cm/1000:.2f} kNm\")"
   ]
  }
 ],
 "metadata": {
  "kernelspec": {
   "display_name": "Python 3",
   "language": "python",
   "name": "python3"
  },
  "language_info": {
   "codemirror_mode": {
    "name": "ipython",
    "version": 3
   },
   "file_extension": ".py",
   "mimetype": "text/x-python",
   "name": "python",
   "nbconvert_exporter": "python",
   "pygments_lexer": "ipython3",
   "version": "3.12.2"
  }
 },
 "nbformat": 4,
 "nbformat_minor": 2
}
