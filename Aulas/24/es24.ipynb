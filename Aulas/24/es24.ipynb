{
 "cells": [
  {
   "cell_type": "code",
   "execution_count": 1,
   "metadata": {},
   "outputs": [],
   "source": [
    "# Import das funções necessárias para os cálculos \n",
    "\n",
    "from math import sqrt\n",
    "from numpy import array, zeros, ix_, delete, dot\n",
    "from numpy.linalg import solve"
   ]
  },
  {
   "cell_type": "markdown",
   "metadata": {},
   "source": [
    "![](es24-1.png)\n",
    "![](es24-2.png)"
   ]
  },
  {
   "cell_type": "code",
   "execution_count": 2,
   "metadata": {},
   "outputs": [
    {
     "name": "stdout",
     "output_type": "stream",
     "text": [
      "O tamanho do elemento 1 é 0.400 m\n",
      "O tamanho do elemento 2 é 0.566 m\n",
      "O tamanho do elemento 3 é 0.566 m\n",
      "\n",
      "O coseno do ângulo entre o elemento 1 e a vertical é 1.000 rad\n",
      "O coseno do ângulo entre o elemento 2 e a vertical é 0.707 rad\n",
      "O coseno do ângulo entre o elemento 3 e a vertical é 0.707 rad\n",
      "\n",
      "O seno do ângulo entre o elemento 1 e a vertical é 0.000 rad\n",
      "O seno do ângulo entre o elemento 2 e a vertical é -0.707 rad\n",
      "O seno do ângulo entre o elemento 3 e a vertical é 0.707 rad\n"
     ]
    }
   ],
   "source": [
    "# Valores para a tabela\n",
    "\n",
    "E1_length = 0.4\n",
    "E2_length = sqrt(0.4**2 + 0.4**2)\n",
    "E3_length = sqrt(0.4**2 + 0.4**2)\n",
    "\n",
    "print(f\"O tamanho do elemento 1 é {E1_length:.3f} m\")\n",
    "print(f\"O tamanho do elemento 2 é {E2_length:.3f} m\")\n",
    "print(f\"O tamanho do elemento 3 é {E3_length:.3f} m\")\n",
    "print()\n",
    "\n",
    "E1_cos = 0.4/E1_length\n",
    "E2_cos = 0.4/E2_length\n",
    "E3_cos = 0.4/E3_length\n",
    "\n",
    "print(f\"O coseno do ângulo entre o elemento 1 e a vertical é {E1_cos:.3f} rad\")\n",
    "print(f\"O coseno do ângulo entre o elemento 2 e a vertical é {E2_cos:.3f} rad\")\n",
    "print(f\"O coseno do ângulo entre o elemento 3 e a vertical é {E3_cos:.3f} rad\")\n",
    "print()\n",
    "\n",
    "E1_sen = sqrt(1 - E1_cos**2)\n",
    "E2_sen = -sqrt(1 - E2_cos**2)\n",
    "E3_sen = sqrt(1 - E3_cos**2)\n",
    "\n",
    "print(f\"O seno do ângulo entre o elemento 1 e a vertical é {E1_sen:.3f} rad\")\n",
    "print(f\"O seno do ângulo entre o elemento 2 e a vertical é {E2_sen:.3f} rad\")\n",
    "print(f\"O seno do ângulo entre o elemento 3 e a vertical é {E3_sen:.3f} rad\")"
   ]
  },
  {
   "cell_type": "markdown",
   "metadata": {},
   "source": [
    "# Informações dos nós\n",
    "\n",
    "| Número do nó \t| X(m) \t| Y(m) \t|\n",
    "| :-:        \t| :-:   | :-: \t|\n",
    "| 1            \t| 0    \t| 0    \t|\n",
    "| 2            \t| 0    \t| 0,4  \t|\n",
    "| 3            \t| 0    \t| -0,4 \t|\n",
    "| 4            \t| 0,4  \t| 0    \t|"
   ]
  },
  {
   "cell_type": "markdown",
   "metadata": {},
   "source": [
    "# Propriedades dos elementos\n",
    "\n",
    "| Número do elemento \t| Incidência (nós que formam o elemento) \t|   \t| Área (m²) \t| Módulo de elasticidade (Pa) \t|   C   \t|    S   \t| Comprimento (m) \t| Numeração dos graus de liberdade \t|   \t|   \t|   \t|\n",
    "|:------------------:\t|:--------------------------------------:\t|:-:\t|:---------:\t|:---------------------------:\t|:-----:\t|:------:\t|:---------------:\t|:--------------------------------:\t|:-:\t|:-:\t|:-:\t|\n",
    "|          1         \t|                    1                   \t| 4 \t|   0,0005  \t|       $200 \\cdot 10^9$      \t|   1   \t|    0   \t|       0,4       \t|                 1                \t| 2 \t| 7 \t| 8 \t|\n",
    "|          2         \t|                    2                   \t| 4 \t|   0,0005  \t|       $200 \\cdot 10^9$      \t| 0,707 \t| -0,707 \t|      0,566      \t|                 3                \t| 4 \t| 7 \t| 8 \t|\n",
    "|          3         \t|                    3                   \t| 4 \t|   0,0005  \t|       $200 \\cdot 10^9$      \t| 0,707 \t|  0,707 \t|      0,566      \t|                 5                \t| 6 \t| 7 \t| 8 \t|"
   ]
  },
  {
   "cell_type": "code",
   "execution_count": 3,
   "metadata": {},
   "outputs": [],
   "source": [
    "# Constantes\n",
    "\n",
    "E = 200e9  # Pa\n",
    "A = 0.0005 # m²\n",
    "\n",
    "F1 = 200   # N\n",
    "F2 = 150   # N"
   ]
  },
  {
   "cell_type": "code",
   "execution_count": 4,
   "metadata": {},
   "outputs": [
    {
     "name": "stdout",
     "output_type": "stream",
     "text": [
      "A matriz de rigidez do elemento 1 é: \n",
      "[[ 2.5e+08  0.0e+00 -2.5e+08 -0.0e+00]\n",
      " [ 0.0e+00  0.0e+00 -0.0e+00 -0.0e+00]\n",
      " [-2.5e+08 -0.0e+00  2.5e+08  0.0e+00]\n",
      " [-0.0e+00 -0.0e+00  0.0e+00  0.0e+00]]\n",
      "\n",
      "A matriz de rigidez do elemento 2 é: \n",
      "[[ 88388347.64831841 -88388347.64831842 -88388347.64831841\n",
      "   88388347.64831842]\n",
      " [-88388347.64831842  88388347.64831844  88388347.64831842\n",
      "  -88388347.64831844]\n",
      " [-88388347.64831841  88388347.64831842  88388347.64831841\n",
      "  -88388347.64831842]\n",
      " [ 88388347.64831842 -88388347.64831844 -88388347.64831842\n",
      "   88388347.64831844]]\n",
      "\n",
      "A matriz de rigidez do elemento 3 é: \n",
      "[[ 88388347.64831841  88388347.64831842 -88388347.64831841\n",
      "  -88388347.64831842]\n",
      " [ 88388347.64831842  88388347.64831844 -88388347.64831842\n",
      "  -88388347.64831844]\n",
      " [-88388347.64831841 -88388347.64831842  88388347.64831841\n",
      "   88388347.64831842]\n",
      " [-88388347.64831842 -88388347.64831844  88388347.64831842\n",
      "   88388347.64831844]]\n"
     ]
    }
   ],
   "source": [
    "# a) Matriz de rigidez de cada elemento\n",
    "\n",
    "# K1    1   2   7   8\n",
    "#    1 1,1 1,2 1,7 1,8\n",
    "#    2 2,1 2,2 2,7 2,8\n",
    "#    7 7,1 7,2 7,7 7,8\n",
    "#    8 8,1 8,2 8,7 8,8\n",
    "\n",
    "graus_de_liberdade_em_k1 = array([1, 2, 7, 8])-1\n",
    "\n",
    "k1 = E*A/E1_length * array(([E1_cos**2, E1_cos*E1_sen, -E1_cos**2, -E1_cos*E1_sen], \n",
    "                            [E1_cos*E1_sen, E1_sen**2, -E1_cos*E1_sen, -E1_sen**2], \n",
    "                            [-E1_cos**2, -E1_cos*E1_sen, E1_cos**2, E1_cos*E1_sen], \n",
    "                            [-E1_cos*E1_sen, -E1_sen**2, E1_cos*E1_sen, E1_sen**2]))\n",
    "\n",
    "# K2    3   4   7   8\n",
    "#    3 3,3 3,4 3,7 3,8\n",
    "#    4 4,3 4,4 4,7 4,8\n",
    "#    7 7,3 7,4 7,7 7,8\n",
    "#    8 8,3 8,4 8,7 8,8\n",
    "\n",
    "graus_de_liberdade_em_k2 = array([3, 4, 7, 8])-1\n",
    "\n",
    "k2 = E*A/E2_length * array(([E2_cos**2, E2_cos*E2_sen, -E2_cos**2, -E2_cos*E2_sen],\n",
    "                            [E2_cos*E2_sen, E2_sen**2, -E2_cos*E2_sen, -E2_sen**2],\n",
    "                            [-E2_cos**2, -E2_cos*E2_sen, E2_cos**2, E2_cos*E2_sen],\n",
    "                            [-E2_cos*E2_sen, -E2_sen**2, E2_cos*E2_sen, E2_sen**2]))\n",
    "\n",
    "# K3    5   6   7   8\n",
    "#    5 5,5 5,6 5,7 5,8\n",
    "#    6 6,5 6,6 6,7 6,8\n",
    "#    7 7,5 7,6 7,7 7,8\n",
    "#    8 8,5 8,6 8,7 8,8\n",
    "\n",
    "graus_de_liberdade_em_k3 = array([5, 6, 7, 8])-1\n",
    "\n",
    "k3 = E*A/E3_length * array(([E3_cos**2, E3_cos*E3_sen, -E3_cos**2, -E3_cos*E3_sen],\n",
    "                            [E3_cos*E3_sen, E3_sen**2, -E3_cos*E3_sen, -E3_sen**2],\n",
    "                            [-E3_cos**2, -E3_cos*E3_sen, E3_cos**2, E3_cos*E3_sen],\n",
    "                            [-E3_cos*E3_sen, -E3_sen**2, E3_cos*E3_sen, E3_sen**2]))\n",
    "\n",
    "print(f\"A matriz de rigidez do elemento 1 é: \\n{k1}\")\n",
    "print()\n",
    "print(f\"A matriz de rigidez do elemento 2 é: \\n{k2}\")\n",
    "print()\n",
    "print(f\"A matriz de rigidez do elemento 3 é: \\n{k3}\")"
   ]
  },
  {
   "cell_type": "code",
   "execution_count": 5,
   "metadata": {},
   "outputs": [
    {
     "name": "stdout",
     "output_type": "stream",
     "text": [
      "A matriz de rigidez global é: \n",
      "[[ 2.50000000e+08  0.00000000e+00  0.00000000e+00  0.00000000e+00\n",
      "   0.00000000e+00  0.00000000e+00 -2.50000000e+08  0.00000000e+00]\n",
      " [ 0.00000000e+00  0.00000000e+00  0.00000000e+00  0.00000000e+00\n",
      "   0.00000000e+00  0.00000000e+00  0.00000000e+00  0.00000000e+00]\n",
      " [ 0.00000000e+00  0.00000000e+00  8.83883476e+07 -8.83883476e+07\n",
      "   0.00000000e+00  0.00000000e+00 -8.83883476e+07  8.83883476e+07]\n",
      " [ 0.00000000e+00  0.00000000e+00 -8.83883476e+07  8.83883476e+07\n",
      "   0.00000000e+00  0.00000000e+00  8.83883476e+07 -8.83883476e+07]\n",
      " [ 0.00000000e+00  0.00000000e+00  0.00000000e+00  0.00000000e+00\n",
      "   8.83883476e+07  8.83883476e+07 -8.83883476e+07 -8.83883476e+07]\n",
      " [ 0.00000000e+00  0.00000000e+00  0.00000000e+00  0.00000000e+00\n",
      "   8.83883476e+07  8.83883476e+07 -8.83883476e+07 -8.83883476e+07]\n",
      " [-2.50000000e+08  0.00000000e+00 -8.83883476e+07  8.83883476e+07\n",
      "  -8.83883476e+07 -8.83883476e+07  4.26776695e+08  0.00000000e+00]\n",
      " [ 0.00000000e+00  0.00000000e+00  8.83883476e+07 -8.83883476e+07\n",
      "  -8.83883476e+07 -8.83883476e+07  0.00000000e+00  1.76776695e+08]]\n"
     ]
    }
   ],
   "source": [
    "# b) Matriz de rigidez global\n",
    "\n",
    "# K    1   2   3   4   5   6   7   8\n",
    "#   1 1,1 1,2 1,3 1,4 1,5 1,6 1,7 1,8\n",
    "#   2 2,1 2,2 2,3 2,4 2,5 2,6 2,7 2,8\n",
    "#   3 3,1 3,2 3,3 3,4 3,5 3,6 3,7 3,8\n",
    "#   4 4,1 4,2 4,3 4,4 4,5 4,6 4,7 4,8\n",
    "#   5 5,1 5,2 5,3 5,4 5,5 5,6 5,7 5,8\n",
    "#   6 6,1 6,2 6,3 6,4 6,5 6,6 6,7 6,8\n",
    "#   7 7,1 7,2 7,3 7,4 7,5 7,6 7,7 7,8\n",
    "#   8 8,1 8,2 8,3 8,4 8,5 8,6 8,7 8,8\n",
    "\n",
    "K = zeros((8, 8))\n",
    "\n",
    "K[ix_(graus_de_liberdade_em_k1, graus_de_liberdade_em_k1)] += k1\n",
    "K[ix_(graus_de_liberdade_em_k2, graus_de_liberdade_em_k2)] += k2\n",
    "K[ix_(graus_de_liberdade_em_k3, graus_de_liberdade_em_k3)] += k3\n",
    "\n",
    "print(f\"A matriz de rigidez global é: \\n{K}\")"
   ]
  },
  {
   "cell_type": "markdown",
   "metadata": {},
   "source": [
    "# c) Vetor de forças\n",
    "\n",
    "$$ P_G = \n",
    "\n",
    "\\begin{bmatrix}\n",
    "R_{1_X} \\\\\n",
    "R_{1_Y} \\\\\n",
    "R_{2_X} \\\\\n",
    "R_{2_Y} \\\\\n",
    "R_{3_X} \\\\\n",
    "R_{3_Y} \\\\\n",
    "F_2     \\\\\n",
    "-F_1\n",
    "\\end{bmatrix}\n",
    "$$"
   ]
  },
  {
   "cell_type": "code",
   "execution_count": 6,
   "metadata": {},
   "outputs": [
    {
     "name": "stdout",
     "output_type": "stream",
     "text": [
      "A matriz de rigidez global reduzida é: \n",
      "[[4.26776695e+08 0.00000000e+00]\n",
      " [0.00000000e+00 1.76776695e+08]]\n",
      "\n",
      "O vetor de forças globais reduzido é: \n",
      "[ 150 -200]\n",
      "\n",
      "O vetor de deslocamentos é: \n",
      "[ 0.00000000e+00  0.00000000e+00  0.00000000e+00  0.00000000e+00\n",
      "  0.00000000e+00  0.00000000e+00  3.51471863e-07 -1.13137085e-06]\n"
     ]
    }
   ],
   "source": [
    "# d) Aplicação das condições de contorno e determinação dos deslocamentos nodais\n",
    "# (eliminar linha e coluna do grau de liberdade que possui a restrição)\n",
    "\n",
    "graus_de_liberdade_com_restricoes = array([1, 2, 3, 4, 5, 6])-1\n",
    "graus_de_liberdade_sem_restricoes = array([7, 8])-1\n",
    "\n",
    "K_reduzido = delete(K, graus_de_liberdade_com_restricoes, 0)\n",
    "K_reduzido = delete(K_reduzido, graus_de_liberdade_com_restricoes, 1)\n",
    "\n",
    "P_reduzido = array([F2, -F1])\n",
    "\n",
    "print(f\"A matriz de rigidez global reduzida é: \\n{K_reduzido}\")\n",
    "print()\n",
    "print(f\"O vetor de forças globais reduzido é: \\n{P_reduzido}\")\n",
    "print()\n",
    "\n",
    "U = zeros(8)\n",
    "U[ix_(graus_de_liberdade_sem_restricoes)] += solve(K_reduzido, P_reduzido)\n",
    "\n",
    "print(f\"O vetor de deslocamentos é: \\n{U}\")"
   ]
  },
  {
   "cell_type": "code",
   "execution_count": 7,
   "metadata": {},
   "outputs": [
    {
     "name": "stdout",
     "output_type": "stream",
     "text": [
      "O vetor de forças globais é: \n",
      "[ -87.86796564    0.         -131.06601718  131.06601718   68.93398282\n",
      "   68.93398282  150.         -200.        ]\n",
      "\n",
      "R1x = -87.868 N\n",
      "R1y = 0.000 N\n",
      "R2x = -131.066 N\n",
      "R2y = 131.066 N\n",
      "R3x = 68.934 N\n",
      "R3y = 68.934 N\n"
     ]
    }
   ],
   "source": [
    "# e) Calcular as reações de apoio\n",
    "\n",
    "P = dot(K, U)\n",
    "\n",
    "print(f\"O vetor de forças globais é: \\n{P}\")\n",
    "print()\n",
    "print(f\"R1x = {P[0]:.3f} N\")\n",
    "print(f\"R1y = {P[1]:.3f} N\")\n",
    "print(f\"R2x = {P[2]:.3f} N\")\n",
    "print(f\"R2y = {P[3]:.3f} N\")\n",
    "print(f\"R3x = {P[4]:.3f} N\")\n",
    "print(f\"R3y = {P[5]:.3f} N\")"
   ]
  },
  {
   "cell_type": "code",
   "execution_count": 8,
   "metadata": {},
   "outputs": [
    {
     "name": "stdout",
     "output_type": "stream",
     "text": [
      "A deformação no elemento 1 é de 8.787e-07 m\n",
      "A deformação no elemento 2 é de 1.854e-06 m\n",
      "A deformação no elemento 3 é de -9.749e-07 m\n"
     ]
    }
   ],
   "source": [
    "# f) Determinar a deformação em cada elemento\n",
    "\n",
    "# Deformação no elemento 1\n",
    "\n",
    "epsilon1 = 1/E1_length * dot([-E1_cos, -E1_sen, E1_cos, E1_sen], \n",
    "                                U[ix_(graus_de_liberdade_em_k1)])\n",
    "\n",
    "print(f\"A deformação no elemento 1 é de {epsilon1:.3e} m\")\n",
    "\n",
    "# Deformação no elemento 2\n",
    "\n",
    "epsilon2 = 1/E2_length * dot([-E2_cos, -E2_sen, E2_cos, E2_sen],\n",
    "                                U[ix_(graus_de_liberdade_em_k2)])\n",
    "\n",
    "print(f\"A deformação no elemento 2 é de {epsilon2:.3e} m\")\n",
    "\n",
    "# Deformação no elemento 3\n",
    "\n",
    "epsilon3 = 1/E3_length * dot([-E3_cos, -E3_sen, E3_cos, E3_sen],\n",
    "                                U[ix_(graus_de_liberdade_em_k3)])\n",
    "\n",
    "print(f\"A deformação no elemento 3 é de {epsilon3:.3e} m\")"
   ]
  },
  {
   "cell_type": "code",
   "execution_count": 9,
   "metadata": {},
   "outputs": [
    {
     "name": "stdout",
     "output_type": "stream",
     "text": [
      "A tensão no elemento 1 é de 1.757e+05 Pa\n",
      "A tensão no elemento 2 é de 3.707e+05 Pa\n",
      "A tensão no elemento 3 é de -1.950e+05 Pa\n"
     ]
    }
   ],
   "source": [
    "# g) Determinar a tensão em cada elemento\n",
    "\n",
    "# Tensão no elemento 1\n",
    "\n",
    "# sigma1 = E/E1_length * np.dot([-E1_cos, -E1_sen, E1_cos, E1_sen],\n",
    "#                                U[np.ix_(graus_de_liberdade_em_k1-1)])\n",
    "\n",
    "sigma1 = E * epsilon1\n",
    "\n",
    "print(f\"A tensão no elemento 1 é de {sigma1:.3e} Pa\")\n",
    "\n",
    "# Tensão no elemento 2\n",
    "\n",
    "# sigma2 = E/E2_length * np.dot([-E2_cos, -E2_sen, E2_cos, E2_sen],\n",
    "#                                U[np.ix_(graus_de_liberdade_em_k2-1)])\n",
    "\n",
    "sigma2 = E * epsilon2\n",
    "\n",
    "print(f\"A tensão no elemento 2 é de {sigma2:.3e} Pa\")\n",
    "\n",
    "# Tensão no elemento 3\n",
    "\n",
    "# sigma3 = E/E3_length * np.dot([-E3_cos, -E3_sen, E3_cos, E3_sen],\n",
    "#                                  U[np.ix_(graus_de_liberdade_em_k3-1)])\n",
    "\n",
    "sigma3 = E * epsilon3\n",
    "\n",
    "print(f\"A tensão no elemento 3 é de {sigma3:.3e} Pa\")"
   ]
  },
  {
   "cell_type": "code",
   "execution_count": 10,
   "metadata": {},
   "outputs": [
    {
     "name": "stdout",
     "output_type": "stream",
     "text": [
      "O elemento 2 está submetido à maior tensão, que é de 3.707e+05 Pa\n"
     ]
    }
   ],
   "source": [
    "# h) Qual o elemento que está submetido à maior tensão?\n",
    "\n",
    "maior_tensao = max(sigma1, sigma2, sigma3)\n",
    "\n",
    "if maior_tensao == sigma1:\n",
    "    print(f\"O elemento 1 está submetido à maior tensão, que é de {maior_tensao:.3e} Pa\")\n",
    "elif maior_tensao == sigma2:\n",
    "    print(f\"O elemento 2 está submetido à maior tensão, que é de {maior_tensao:.3e} Pa\")\n",
    "else:\n",
    "    print(f\"O elemento 3 está submetido à maior tensão, que é de {maior_tensao:.3e} Pa\")"
   ]
  }
 ],
 "metadata": {
  "kernelspec": {
   "display_name": "Python 3",
   "language": "python",
   "name": "python3"
  },
  "language_info": {
   "codemirror_mode": {
    "name": "ipython",
    "version": 3
   },
   "file_extension": ".py",
   "mimetype": "text/x-python",
   "name": "python",
   "nbconvert_exporter": "python",
   "pygments_lexer": "ipython3",
   "version": "3.12.3"
  }
 },
 "nbformat": 4,
 "nbformat_minor": 2
}
