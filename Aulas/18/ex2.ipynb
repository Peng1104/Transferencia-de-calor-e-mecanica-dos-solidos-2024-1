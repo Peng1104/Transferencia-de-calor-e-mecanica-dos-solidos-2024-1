{
 "cells": [
  {
   "cell_type": "markdown",
   "metadata": {},
   "source": [
    "![alt text](ex2.png \"Exercicio 2\")"
   ]
  },
  {
   "cell_type": "code",
   "execution_count": 1,
   "metadata": {
    "metadata": {}
   },
   "outputs": [],
   "source": [
    "from math import *"
   ]
  },
  {
   "cell_type": "code",
   "execution_count": 2,
   "metadata": {
    "metadata": {}
   },
   "outputs": [],
   "source": [
    "F1 = 600\n",
    "\n",
    "F1x = 600 * cos(radians(45)) # em i\n",
    "F1y = 600 * sin(radians(45)) # em j\n",
    "\n",
    "F2 = 100 # em j\n",
    "F3 = 200 # em j"
   ]
  },
  {
   "cell_type": "markdown",
   "metadata": {},
   "source": [
    "Resolvendo na horizontal, $R_x = 0$ portanto $F_{b_x} = - F_{1_x}$"
   ]
  },
  {
   "cell_type": "code",
   "execution_count": 3,
   "metadata": {
    "metadata": {}
   },
   "outputs": [
    {
     "name": "stdout",
     "output_type": "stream",
     "text": [
      "Fbx = -424.26406871192853\n"
     ]
    }
   ],
   "source": [
    "print(f\"Fbx = {-F1x}\")"
   ]
  },
  {
   "cell_type": "markdown",
   "metadata": {},
   "source": [
    "Resolvendo na vertical, $R_y = 0$ portanto $F_{b_y} + F_{a_y} = F_{1_y} + F_2 + F_3$"
   ]
  },
  {
   "cell_type": "code",
   "execution_count": 4,
   "metadata": {
    "metadata": {}
   },
   "outputs": [],
   "source": [
    "Ry = F1y + F2 + F3"
   ]
  },
  {
   "cell_type": "markdown",
   "metadata": {},
   "source": [
    "Resolvendo o Torques, $T_r = 0$"
   ]
  },
  {
   "cell_type": "code",
   "execution_count": 5,
   "metadata": {
    "metadata": {}
   },
   "outputs": [
    {
     "name": "stdout",
     "output_type": "stream",
     "text": [
      "Fay = 319.4953614024653\n",
      "Fby = 404.76870730946325\n",
      "Fby aredondado = 405\n"
     ]
    }
   ],
   "source": [
    "# Em relação ao ponto B para excluir Fby e Fbx\n",
    "Fay = (2*F2 + 5*F1y - 0.2*F1x)/7\n",
    "\n",
    "print(f\"Fay = {Fay}\")\n",
    "print(f\"Fby = {Ry - Fay}\")\n",
    "print(f\"Fby aredondado = {round(Ry - Fay)}\")"
   ]
  }
 ],
 "metadata": {
  "kernelspec": {
   "display_name": "Python 3",
   "language": "python",
   "name": "python3"
  },
  "language_info": {
   "codemirror_mode": {
    "name": "ipython",
    "version": 3
   },
   "file_extension": ".py",
   "mimetype": "text/x-python",
   "name": "python",
   "nbconvert_exporter": "python",
   "pygments_lexer": "ipython3",
   "version": "3.12.2"
  }
 },
 "nbformat": 4,
 "nbformat_minor": 2
}
