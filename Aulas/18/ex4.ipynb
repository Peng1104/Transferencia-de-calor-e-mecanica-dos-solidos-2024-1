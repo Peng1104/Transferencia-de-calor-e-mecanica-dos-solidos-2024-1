{
 "cells": [
  {
   "cell_type": "markdown",
   "metadata": {},
   "source": [
    "![alt text](ex4.png \"Exercicio 4\")"
   ]
  },
  {
   "cell_type": "code",
   "execution_count": 7,
   "metadata": {
    "metadata": {}
   },
   "outputs": [],
   "source": [
    "from math import *"
   ]
  },
  {
   "cell_type": "code",
   "execution_count": 8,
   "metadata": {
    "metadata": {}
   },
   "outputs": [],
   "source": [
    "P =  75e3 # em j\n",
    "F1 = 30e3 # em j\n",
    "F2 = 30e3 # em j"
   ]
  },
  {
   "cell_type": "markdown",
   "metadata": {},
   "source": [
    "Torque resultante $T_r = 0$\n",
    "\n",
    "Em relação ao ponto A:\n",
    "$$ 0 = 1,5 \\cdot P + 5,5 \\cdot F_1 + 6,5 \\cdot F_2 + 4,5 \\cdot F_b $$\n",
    "$$ - 4,5 \\cdot F_b = 1,5 \\cdot P + 5,5 \\cdot F_1 + 6,5 \\cdot F_2 $$\n",
    "$$ F_b = \\frac {1,5 \\cdot P + 5,5 \\cdot F_1 + 6,5 \\cdot F_2} {-4,5} $$\n",
    "\n",
    "Em relação ao ponto B:\n",
    "$$ 0 = 1 \\cdot F_1 + 1 \\cdot F_2 - 3 \\cdot P - 4,5 \\cdot F_a $$\n",
    "$$ 4,5 \\cdot F_a = F_1 + F_2 - 3 \\cdot P $$\n",
    "$$ F_a = \\frac {F_1 + F_2 - 3 \\cdot P} {4,5} $$"
   ]
  },
  {
   "cell_type": "code",
   "execution_count": 10,
   "metadata": {
    "metadata": {}
   },
   "outputs": [
    {
     "name": "stdout",
     "output_type": "stream",
     "text": [
      "Fa = -63.33 kN\n",
      "Fb = 105.00 kN\n"
     ]
    }
   ],
   "source": [
    "# Calculo das reações de apoio, envertido em relação ao eixo y\n",
    "Fb = (1.5 * P + 5.5 * F1 + 6.5 * F2)/-4.5\n",
    "Fa = (F1 + F2 + 3 * P) /4.5\n",
    "\n",
    "# Resultado no sentido do eixo\n",
    "print(\"Fa = %.2f kN\" % (-Fa/1e3))\n",
    "print(\"Fb = %.2f kN\" % (-Fb/1e3))"
   ]
  }
 ],
 "metadata": {
  "kernelspec": {
   "display_name": "Python 3",
   "language": "python",
   "name": "python3"
  },
  "language_info": {
   "codemirror_mode": {
    "name": "ipython",
    "version": 3
   },
   "file_extension": ".py",
   "mimetype": "text/x-python",
   "name": "python",
   "nbconvert_exporter": "python",
   "pygments_lexer": "ipython3",
   "version": "3.12.2"
  }
 },
 "nbformat": 4,
 "nbformat_minor": 2
}
