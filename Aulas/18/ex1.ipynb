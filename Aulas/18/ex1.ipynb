{
 "cells": [
  {
   "cell_type": "markdown",
   "metadata": {},
   "source": [
    "![alt text](ex1.png \"Exercicio 1\")"
   ]
  },
  {
   "cell_type": "code",
   "execution_count": 25,
   "metadata": {
    "metadata": {}
   },
   "outputs": [],
   "source": [
    "T =  200 # kgf*m\n",
    "F1 = 100 # kgf\n",
    "F2 = 160 # kgf"
   ]
  },
  {
   "cell_type": "markdown",
   "metadata": {},
   "source": [
    "Como em equilibrio estático:\n",
    "\n",
    "$$ R_y = 0 $$\n",
    "$$ R_x = 0 $$\n",
    "$$ T_r = 0 $$"
   ]
  },
  {
   "cell_type": "markdown",
   "metadata": {},
   "source": [
    "Resultante em x:\n",
    "\n",
    "$$ R_x = F_{A_x} $$\n",
    "$$ F_{A_x} = 0 $$"
   ]
  },
  {
   "cell_type": "markdown",
   "metadata": {},
   "source": [
    "Resulante em y:\n",
    "\n",
    "$$ R_y = F_{A_y} + F_{B_y} - F1 - F2 $$\n",
    "$$ F_{A_y} + F_{B_y} = F1 + F2 $$"
   ]
  },
  {
   "cell_type": "markdown",
   "metadata": {},
   "source": [
    "Torque em relação ao ponto A:\n",
    "\n",
    "$$ 0 = -T + 1 \\cdot F_1 + 1,5 \\cdot F_2 + 2 \\cdot F_{B_y} $$\n",
    "$$ - 2 \\cdot F_{B_y} = T + F_1 + 1,5 \\cdot F_2 $$\n",
    "$$ F_{B_y} = \\frac {T + F_1 + 1,5 \\cdot F_2} {- 2} $$"
   ]
  },
  {
   "cell_type": "code",
   "execution_count": 26,
   "metadata": {
    "metadata": {}
   },
   "outputs": [],
   "source": [
    "Fb = (T + F1 + 1.5 * F2) / (2)"
   ]
  },
  {
   "cell_type": "markdown",
   "metadata": {},
   "source": [
    "Torque em relação ao ponto B:\n",
    "\n",
    "$$ 0 = 0,5 \\cdot F_2 1 \\cdot F_1 - T - 2 \\cdot F_{A_y} $$\n",
    "$$ 2 \\cdot F_{A_y} = 0,5 \\cdot F_2 + F_1 - T $$\n",
    "$$ F_{A_y} = \\frac {0,5 \\cdot F_2 + F_1 - T} {2} $$"
   ]
  },
  {
   "cell_type": "code",
   "execution_count": 27,
   "metadata": {
    "metadata": {}
   },
   "outputs": [],
   "source": [
    "Fa = (0.5 * F2 + F1 - T) / (2)"
   ]
  },
  {
   "cell_type": "code",
   "execution_count": 28,
   "metadata": {
    "metadata": {}
   },
   "outputs": [
    {
     "name": "stdout",
     "output_type": "stream",
     "text": [
      "Fa = -10.00 kgf\n",
      "Fb = 270.00 kgf\n"
     ]
    }
   ],
   "source": [
    "print(\"Fa = %.2f kgf\" % Fa)\n",
    "print(\"Fb = %.2f kgf\" % Fb)"
   ]
  }
 ],
 "metadata": {
  "kernelspec": {
   "display_name": "Python 3",
   "language": "python",
   "name": "python3"
  },
  "language_info": {
   "codemirror_mode": {
    "name": "ipython",
    "version": 3
   },
   "file_extension": ".py",
   "mimetype": "text/x-python",
   "name": "python",
   "nbconvert_exporter": "python",
   "pygments_lexer": "ipython3",
   "version": "3.12.2"
  }
 },
 "nbformat": 4,
 "nbformat_minor": 2
}
